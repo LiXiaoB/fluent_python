{
 "cells": [
  {
   "cell_type": "code",
   "execution_count": 2,
   "metadata": {
    "collapsed": true
   },
   "outputs": [],
   "source": [
    "# RUN IT\n",
    "# Display multiple interactive objects in one shell\n",
    "# No Need for print function\n",
    "from IPython.core.interactiveshell import InteractiveShell\n",
    "InteractiveShell.ast_node_interactivity = \"all\""
   ]
  },
  {
   "cell_type": "markdown",
   "metadata": {},
   "source": [
    "collections (high performance containers) only have 5 methods: (in Python2)\n",
    "    - namedtuple()\n",
    "    - deque\n",
    "    - Counter\n",
    "    - OrderedDict\n",
    "    - defaultdict"
   ]
  },
  {
   "cell_type": "markdown",
   "metadata": {},
   "source": [
    "### Chapter 3 Dict and Set"
   ]
  },
  {
   "cell_type": "markdown",
   "metadata": {},
   "source": [
    "Even we don't write explicitly ditionaries in our program, the program itself actually use lots of dictionaries when running. Function keywords, module namespaces etc. are using `__builtins__.__dict__` to deploy.\n",
    "\n",
    "Dictionaries are very optimized by `Hash tables` (WTF is this?)"
   ]
  },
  {
   "cell_type": "code",
   "execution_count": 4,
   "metadata": {
    "collapsed": false
   },
   "outputs": [
    {
     "data": {
      "text/plain": [
       "['AsyncIterable',\n",
       " 'AsyncIterator',\n",
       " 'Awaitable',\n",
       " 'ByteString',\n",
       " 'Callable',\n",
       " 'Container',\n",
       " 'Coroutine',\n",
       " 'Generator',\n",
       " 'Hashable',\n",
       " 'ItemsView',\n",
       " 'Iterable',\n",
       " 'Iterator',\n",
       " 'KeysView',\n",
       " 'Mapping',\n",
       " 'MappingView',\n",
       " 'MutableMapping',\n",
       " 'MutableSequence',\n",
       " 'MutableSet',\n",
       " 'Sequence',\n",
       " 'Set',\n",
       " 'Sized',\n",
       " 'ValuesView',\n",
       " '__all__',\n",
       " '__builtins__',\n",
       " '__cached__',\n",
       " '__doc__',\n",
       " '__file__',\n",
       " '__loader__',\n",
       " '__name__',\n",
       " '__package__',\n",
       " '__spec__']"
      ]
     },
     "execution_count": 4,
     "metadata": {},
     "output_type": "execute_result"
    }
   ],
   "source": [
    "from collections import abc\n",
    "\n",
    "# Abstract Base Classes\n",
    "# It contains all the base interfaces of class, test if a class have such interface\n",
    "# Sequence and Mapping types ->\n",
    "# inherit Container(__contains__), Iterable(__iter__), Sized(__len__) from abc\n",
    "dir(abc)"
   ]
  },
  {
   "cell_type": "code",
   "execution_count": 5,
   "metadata": {
    "collapsed": false
   },
   "outputs": [
    {
     "data": {
      "text/plain": [
       "True"
      ]
     },
     "execution_count": 5,
     "metadata": {},
     "output_type": "execute_result"
    }
   ],
   "source": [
    "# dictionary is a Mapping type\n",
    "isinstance({}, abc.Mapping)"
   ]
  },
  {
   "cell_type": "raw",
   "metadata": {},
   "source": [
    "All the keys in dictionaries are hashable, but what is hashable in Python?\n",
    "\n",
    "Hashable means an object has a hash value which will never change during its lifetime.\n",
    "Therfore, it has to have two method __hash__() and __eq__() to compare hash values.\n",
    "\n",
    "The atomic immutable types (str, bytes, numeric) are all hashable.\n",
    "The tuple is hashable only if all elements are hashable.\n",
    "The frozenset is hashable.\n",
    "The user-defined obejct are all hashable and unique (not equal). Their hash values are their id(). To let them be equal, we need to implement the __eq__() method."
   ]
  },
  {
   "cell_type": "markdown",
   "metadata": {},
   "source": [
    "Ways to build a dictionary:"
   ]
  },
  {
   "cell_type": "code",
   "execution_count": 9,
   "metadata": {
    "collapsed": false
   },
   "outputs": [
    {
     "name": "stdout",
     "output_type": "stream",
     "text": [
      "{'a': 1, 'c': 3, 'b': 2} {'a': 1, 'c': 3, 'b': 2} {'a': 1, 'c': 3, 'b': 2} {'a': 1, 'c': 3, 'b': 2}\n"
     ]
    }
   ],
   "source": [
    "dict1 = {'a':1, 'b':2, 'c':3}\n",
    "dict2 = dict(a=1, b=2, c=3)\n",
    "dict3 = dict(zip(['a', 'b', 'c'], [1, 2, 3])) # zip two lists, fucking cool\n",
    "dict4 = dict([('a', 1), ('b', 2), ('c', 3)]) # list of tuples\n",
    "print(dict1, dict2, dict3, dict4)"
   ]
  },
  {
   "cell_type": "markdown",
   "metadata": {},
   "source": [
    "Dict Comprehensions (dictcomp)"
   ]
  },
  {
   "cell_type": "code",
   "execution_count": 18,
   "metadata": {
    "collapsed": false
   },
   "outputs": [
    {
     "data": {
      "text/plain": [
       "{'a': 1, 'b': 2, 'c': 3}"
      ]
     },
     "execution_count": 18,
     "metadata": {},
     "output_type": "execute_result"
    },
    {
     "data": {
      "text/plain": [
       "{'a': 3, 'b': 3, 'c': 3}"
      ]
     },
     "execution_count": 18,
     "metadata": {},
     "output_type": "execute_result"
    }
   ],
   "source": [
    "lst = [('a', 1), ('b', 2), ('c', 3)]\n",
    "dic1 = {letter:number for letter, number in lst}\n",
    "\n",
    "lst1 = ['a', 'b', 'c']\n",
    "lst2 = [1, 2, 3]\n",
    "dic2 = {letter:number for letter in lst1\n",
    "                      for number in lst2}\n",
    "\n",
    "dic1\n",
    "dic2"
   ]
  },
  {
   "cell_type": "markdown",
   "metadata": {},
   "source": [
    "Other Mapping Method:\n",
    "    - collections.defaultdict\n",
    "    - collections.OrderedDict"
   ]
  },
  {
   "cell_type": "markdown",
   "metadata": {},
   "source": [
    "handling missing keys with dict.setdefault(key, [default])"
   ]
  },
  {
   "cell_type": "code",
   "execution_count": 42,
   "metadata": {
    "collapsed": false
   },
   "outputs": [
    {
     "data": {
      "text/plain": [
       "1"
      ]
     },
     "execution_count": 42,
     "metadata": {},
     "output_type": "execute_result"
    },
    {
     "data": {
      "text/plain": [
       "{'a': 1, 'b': 2, 'c': 3, 'd': None}"
      ]
     },
     "execution_count": 42,
     "metadata": {},
     "output_type": "execute_result"
    },
    {
     "data": {
      "text/plain": [
       "{'a': 1, 'b': 2, 'c': 3, 'd': None}"
      ]
     },
     "execution_count": 42,
     "metadata": {},
     "output_type": "execute_result"
    }
   ],
   "source": [
    "# To avoid KeyError, either the dict have the key, it will return the value of key\n",
    "# if dict doesn't have the key, it will return default value and add the key+default value\n",
    "dic = dict(zip(['a', 'b', 'c'], [1, 2, 3]))\n",
    "dic.setdefault('a', None) # return 1\n",
    "dic.setdefault('d', None) # return None (nothing returns) + add 'd':None into dict\n",
    "dic\n",
    "\n",
    "# get() do the similar job, but it won't add the new key and value to the dictionary\n",
    "dic.get('e', None) # return None(nothing returns)\n",
    "dic"
   ]
  },
  {
   "cell_type": "markdown",
   "metadata": {},
   "source": [
    "defaultdict"
   ]
  },
  {
   "cell_type": "code",
   "execution_count": 54,
   "metadata": {
    "collapsed": false
   },
   "outputs": [
    {
     "data": {
      "text/plain": [
       "defaultdict(int, {'a': 4, 'd': 5, 'f': 6, 's': 5})"
      ]
     },
     "execution_count": 54,
     "metadata": {},
     "output_type": "execute_result"
    }
   ],
   "source": [
    "from collections import defaultdict\n",
    "\n",
    "# calculate the occurance of a string\n",
    "# every value in this dict is an int\n",
    "d_int = defaultdict(int) # factory function int\n",
    "string = 'asdfsdfasfasdfdfsadf'\n",
    "for char in string:\n",
    "    d_int[char] += 1\n",
    "d_int"
   ]
  },
  {
   "cell_type": "code",
   "execution_count": 57,
   "metadata": {
    "collapsed": false
   },
   "outputs": [
    {
     "data": {
      "text/plain": [
       "defaultdict(list, {'black': [1, 5], 'white': [3, 8]})"
      ]
     },
     "execution_count": 57,
     "metadata": {},
     "output_type": "execute_result"
    },
    {
     "data": {
      "text/plain": [
       "{'black': [1, 5], 'white': [3, 8]}"
      ]
     },
     "execution_count": 57,
     "metadata": {},
     "output_type": "execute_result"
    }
   ],
   "source": [
    "# include all the values with same key in the dictionary\n",
    "# everyvalue in this dict is a list\n",
    "d_lst = defaultdict(list)\n",
    "balls = [('black', 1), ('white', 3), ('black', 5), ('white', 8)]\n",
    "for ball, times in balls:\n",
    "    d_lst[ball].append(times)\n",
    "d_lst\n",
    "\n",
    "# use setdefault(k, [default]) to the same job\n",
    "d = {}\n",
    "for ball, time in balls:\n",
    "    d.setdefault(ball, []).append(time)\n",
    "d"
   ]
  },
  {
   "cell_type": "markdown",
   "metadata": {},
   "source": [
    "OrderedDict"
   ]
  },
  {
   "cell_type": "code",
   "execution_count": 67,
   "metadata": {
    "collapsed": false
   },
   "outputs": [
    {
     "data": {
      "text/plain": [
       "OrderedDict([('apple', 4), ('banana', 3), ('orange', 2), ('pear', 1)])"
      ]
     },
     "execution_count": 67,
     "metadata": {},
     "output_type": "execute_result"
    },
    {
     "data": {
      "text/plain": [
       "OrderedDict([('pear', 1), ('orange', 2), ('banana', 3), ('apple', 4)])"
      ]
     },
     "execution_count": 67,
     "metadata": {},
     "output_type": "execute_result"
    }
   ],
   "source": [
    "from collections import OrderedDict\n",
    "\n",
    "d = {'banana': 3, 'apple': 4, 'pear': 1, 'orange': 2}\n",
    "od = OrderedDict(d)\n",
    "\n",
    "# sorted by key\n",
    "od_key = OrderedDict(sorted(d.items(), key=lambda item: item[0]))\n",
    "od_key\n",
    "\n",
    "# sorted by value\n",
    "od_value = OrderedDict(sorted(d.items(), key=lambda item: item[1]))\n",
    "od_value\n",
    "\n",
    "# It can also popitem with OrderedDict.popitem()"
   ]
  },
  {
   "cell_type": "markdown",
   "metadata": {},
   "source": [
    "Counter"
   ]
  },
  {
   "cell_type": "code",
   "execution_count": 70,
   "metadata": {
    "collapsed": false
   },
   "outputs": [
    {
     "data": {
      "text/plain": [
       "Counter({'a': 5, 'd': 5, 'f': 5, 's': 5})"
      ]
     },
     "execution_count": 70,
     "metadata": {},
     "output_type": "execute_result"
    },
    {
     "data": {
      "text/plain": [
       "Counter({'a': 10, 'd': 9, 'f': 12, 's': 12})"
      ]
     },
     "execution_count": 70,
     "metadata": {},
     "output_type": "execute_result"
    },
    {
     "data": {
      "text/plain": [
       "[('f', 12), ('s', 12), ('a', 10)]"
      ]
     },
     "execution_count": 70,
     "metadata": {},
     "output_type": "execute_result"
    }
   ],
   "source": [
    "# count the occurance of chars in a string\n",
    "from collections import Counter\n",
    "ct = Counter('asdfasdfasdfasdfasfd')\n",
    "ct\n",
    "ct.update('asdfasdfasdfasfasdffssf')\n",
    "ct\n",
    "ct.most_common(3)"
   ]
  },
  {
   "cell_type": "markdown",
   "metadata": {},
   "source": [
    "Set / Frozenset:\n",
    "    - Frozenset has hash values, so it can be used as dictionary keys. But Set can't\n",
    "    - Set can add/remove values, so it is best to do set operations. But Frozenset can't"
   ]
  },
  {
   "cell_type": "code",
   "execution_count": 79,
   "metadata": {
    "collapsed": false
   },
   "outputs": [
    {
     "data": {
      "text/plain": [
       "{'a', 'd', 'f', 's'}"
      ]
     },
     "execution_count": 79,
     "metadata": {},
     "output_type": "execute_result"
    },
    {
     "data": {
      "text/plain": [
       "frozenset({'a', 'd', 'f', 's'})"
      ]
     },
     "execution_count": 79,
     "metadata": {},
     "output_type": "execute_result"
    }
   ],
   "source": [
    "s = set('asdfasdfasdfasf')\n",
    "s\n",
    "fs = frozenset('asdfasdfasdfasf')\n",
    "fs"
   ]
  },
  {
   "cell_type": "code",
   "execution_count": 80,
   "metadata": {
    "collapsed": false
   },
   "outputs": [
    {
     "data": {
      "text/plain": [
       "{'a', 'd', 'f', 's'}"
      ]
     },
     "execution_count": 80,
     "metadata": {},
     "output_type": "execute_result"
    },
    {
     "data": {
      "text/plain": [
       "{'a', 'd', 'f', 'k', 's'}"
      ]
     },
     "execution_count": 80,
     "metadata": {},
     "output_type": "execute_result"
    },
    {
     "data": {
      "text/plain": [
       "{'a', 'd', 'e', 'f', 'k', 'q', 'r', 's', 'w'}"
      ]
     },
     "execution_count": 80,
     "metadata": {},
     "output_type": "execute_result"
    },
    {
     "data": {
      "text/plain": [
       "{'a', 'd', 'f', 'k', 's'}"
      ]
     },
     "execution_count": 80,
     "metadata": {},
     "output_type": "execute_result"
    }
   ],
   "source": [
    "# frozenset can't do any of the operations here:\n",
    "s\n",
    "s.add('k')\n",
    "s\n",
    "s.update('qwer')\n",
    "s\n",
    "s -= set('qwer')\n",
    "s\n",
    "s.remove('k')"
   ]
  },
  {
   "cell_type": "code",
   "execution_count": 81,
   "metadata": {
    "collapsed": false
   },
   "outputs": [
    {
     "data": {
      "text/plain": [
       "True"
      ]
     },
     "execution_count": 81,
     "metadata": {},
     "output_type": "execute_result"
    }
   ],
   "source": [
    "# subset\n",
    "set('asd') < s\n",
    "# union |\n",
    "# intersect &\n",
    "# difference -"
   ]
  },
  {
   "cell_type": "markdown",
   "metadata": {},
   "source": [
    "Other stuff:\n",
    "- `UserDict` is an easy-to-extend subclass for OOP"
   ]
  },
  {
   "cell_type": "markdown",
   "metadata": {},
   "source": [
    "### Chapter 4: Text vs. Bytes"
   ]
  },
  {
   "cell_type": "code",
   "execution_count": null,
   "metadata": {
    "collapsed": true
   },
   "outputs": [],
   "source": []
  }
 ],
 "metadata": {
  "anaconda-cloud": {},
  "kernelspec": {
   "display_name": "Python [Root]",
   "language": "python",
   "name": "Python [Root]"
  },
  "language_info": {
   "codemirror_mode": {
    "name": "ipython",
    "version": 3
   },
   "file_extension": ".py",
   "mimetype": "text/x-python",
   "name": "python",
   "nbconvert_exporter": "python",
   "pygments_lexer": "ipython3",
   "version": "3.5.2"
  }
 },
 "nbformat": 4,
 "nbformat_minor": 0
}
