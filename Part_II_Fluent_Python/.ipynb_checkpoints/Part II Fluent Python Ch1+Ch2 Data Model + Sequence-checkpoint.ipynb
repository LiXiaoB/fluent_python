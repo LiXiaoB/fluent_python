{
 "cells": [
  {
   "cell_type": "markdown",
   "metadata": {},
   "source": [
    "Finally, I'm here to be *Pythonic*. Part II notes follows *[Luciano Ramalho's Fluent Python](http://shop.oreilly.com/product/0636920032519.do)*"
   ]
  },
  {
   "cell_type": "code",
   "execution_count": 19,
   "metadata": {
    "collapsed": true
   },
   "outputs": [],
   "source": [
    "# RUN IT\n",
    "# Display multiple interactive objects in one shell\n",
    "# No Need for print function\n",
    "from IPython.core.interactiveshell import InteractiveShell\n",
    "InteractiveShell.ast_node_interactivity = \"all\""
   ]
  },
  {
   "cell_type": "markdown",
   "metadata": {},
   "source": [
    "### Chapter 1: Data(Object) Model"
   ]
  },
  {
   "cell_type": "markdown",
   "metadata": {},
   "source": [
    "[Python Doc: Data Model](https://docs.python.org/3/reference/datamodel.html)"
   ]
  },
  {
   "cell_type": "markdown",
   "metadata": {},
   "source": [
    "By implementing special methods, your objects can behave like the built-in types, en‐\n",
    "abling the expressive coding style the community considers Pythonic"
   ]
  },
  {
   "cell_type": "raw",
   "metadata": {},
   "source": [
    "__method__ are called: \"magic\" or \"dunder\" method"
   ]
  },
  {
   "cell_type": "raw",
   "metadata": {
    "collapsed": true
   },
   "source": [
    "__repr__\n",
    "当我们想所有环境下都统一显示的话，可以重构__repr__方法；当我们想在不同环境下支持不同的显示，例如终端用户显示使用__str__，而程序员在开发期间则使用底层的__repr__来显示，实际上__str__只是覆盖了__repr__以得到更友好的用户显示。__repr__是更好的选择。\n",
    "\n",
    "__str__ \n",
    "\"pretty print\" \n",
    "if __str__ not defined, then __repr__ = __str__"
   ]
  },
  {
   "cell_type": "raw",
   "metadata": {},
   "source": [
    "__boo__\n",
    "bool(x) 的背后是调用 x.__bool__() 的结果；如果不存在 __bool__ 方法，那么 bool(x) 会尝试调用 x.__len__():若返回 0，则 bool 会返回 False；否则返回 True。"
   ]
  },
  {
   "cell_type": "code",
   "execution_count": 26,
   "metadata": {
    "collapsed": false
   },
   "outputs": [
    {
     "data": {
      "text/plain": [
       "52"
      ]
     },
     "execution_count": 26,
     "metadata": {},
     "output_type": "execute_result"
    },
    {
     "data": {
      "text/plain": [
       "Card(rank='2', suit='hearts')"
      ]
     },
     "execution_count": 26,
     "metadata": {},
     "output_type": "execute_result"
    },
    {
     "data": {
      "text/plain": [
       "[Card(rank='5', suit='spades'),\n",
       " Card(rank='8', suit='diamonds'),\n",
       " Card(rank='J', suit='clubs'),\n",
       " Card(rank='A', suit='hearts')]"
      ]
     },
     "execution_count": 26,
     "metadata": {},
     "output_type": "execute_result"
    },
    {
     "name": "stdout",
     "output_type": "stream",
     "text": [
      "Card(rank='2', suit='diamonds')\n",
      "Card(rank='3', suit='diamonds')\n",
      "Card(rank='4', suit='diamonds')\n",
      "Card(rank='5', suit='diamonds')\n",
      "Card(rank='6', suit='diamonds')\n",
      "Card(rank='7', suit='diamonds')\n",
      "Card(rank='8', suit='diamonds')\n",
      "Card(rank='9', suit='diamonds')\n",
      "Card(rank='10', suit='diamonds')\n",
      "Card(rank='J', suit='diamonds')\n",
      "Card(rank='Q', suit='diamonds')\n",
      "Card(rank='K', suit='diamonds')\n",
      "Card(rank='A', suit='diamonds')\n"
     ]
    },
    {
     "data": {
      "text/plain": [
       "Card(rank='Q', suit='hearts')"
      ]
     },
     "execution_count": 26,
     "metadata": {},
     "output_type": "execute_result"
    }
   ],
   "source": [
    "# Card.py\n",
    "# A deck of playing cards\n",
    "import collections\n",
    "\n",
    "# namedtuple can be used to build classes of objects \n",
    "# that are just bundles of attributes with no custom methods\n",
    "Card = collections.namedtuple('Card', ['rank', 'suit'])\n",
    "\n",
    "class FrecnchDeck:\n",
    "    \n",
    "    ranks = [str(nb) for nb in range(2, 11)] + list('JQKA') # list comprehension\n",
    "    suits = 'spades diamonds clubs hearts'.split()\n",
    "    \n",
    "    def __init__(self):\n",
    "        self._cards = [Card(rank, suit) for rank in self.ranks\n",
    "                                        for suit in self.suits] # listcomps\n",
    "        \n",
    "    # magic method: __len__\n",
    "    def __len__(self):\n",
    "        return len(self._cards)\n",
    "    \n",
    "    # magic method: __getitem__\n",
    "    # list slicing, iteration\n",
    "    def __getitem__(self, position):\n",
    "        return self._cards[position]\n",
    "\n",
    "deck = FrecnchDeck()\n",
    "len(deck)\n",
    "deck[3]\n",
    "deck[12::13] # slicing !\n",
    "for card in deck: # iterable !\n",
    "    if card.suit == 'diamonds':\n",
    "        print(card)\n",
    "\n",
    "# random card\n",
    "from random import choice\n",
    "choice(deck)"
   ]
  },
  {
   "cell_type": "raw",
   "metadata": {
    "collapsed": true
   },
   "source": [
    "Iteration is often implicit. If a collection has no __contains__ method, the `in` operator\n",
    "does a sequential scan. "
   ]
  },
  {
   "cell_type": "code",
   "execution_count": 27,
   "metadata": {
    "collapsed": false
   },
   "outputs": [
    {
     "data": {
      "text/plain": [
       "True"
      ]
     },
     "execution_count": 27,
     "metadata": {},
     "output_type": "execute_result"
    }
   ],
   "source": [
    "Card(rank='A', suit='hearts') in deck # sequential scan"
   ]
  },
  {
   "cell_type": "raw",
   "metadata": {},
   "source": [
    "How Special Methods Are Used?\n",
    "\n",
    "- The first thing to know about special methods is that they are meant to be called by the\n",
    "Python interpreter, and not by you.\n",
    "- Normally, your code should not have many direct calls to special methods.\n",
    "- If you need to invoke a special method, it is usually better to call the related built-in\n",
    "function (e.g., len, iter, str, etc). "
   ]
  },
  {
   "cell_type": "markdown",
   "metadata": {},
   "source": [
    "### Chapter 2: Sequence"
   ]
  },
  {
   "cell_type": "markdown",
   "metadata": {},
   "source": [
    "Container sequences hold **references**, while flat sequences store the value in the memory."
   ]
  },
  {
   "cell_type": "markdown",
   "metadata": {},
   "source": [
    "- Container sequences: list, tuple, collections.deque\n",
    "- Flat sequences: str, bytes, bytearray, memoryview"
   ]
  },
  {
   "cell_type": "markdown",
   "metadata": {},
   "source": [
    "Another way to categorize sequences: Mutability"
   ]
  },
  {
   "cell_type": "markdown",
   "metadata": {},
   "source": [
    "- Mutable sequneces: list, bytearray, array.array, deque, memoryview\n",
    "- Immutable sequences: tuple, str, bytes"
   ]
  },
  {
   "cell_type": "raw",
   "metadata": {},
   "source": [
    "To understand Mutability, here's the chart shows which extra special methods(right) do mutable sequence have:\n",
    "\n",
    "                     < ----- (Sequence)     < -----  (Mutable Sequence)\n",
    "`__contains__`(Container)   `__getitem__`            `__setitem__`\n",
    "`__iter__`(Iterable)        `__reversed__`           `__delitem__`\n",
    "`__len__`(Sized)            `index`                  `insert`\n",
    "                            `count`                  `append`\n",
    "                                                     `reverse`\n",
    "                                                     `pop`\n",
    "                                                     `extend`\n",
    "                                                     `remove`\n",
    "                                                     `__iadd__`\n",
    "                                                     \n",
    "                                                     \n",
    "   (Superclass)  < ----- (Subclass)"
   ]
  },
  {
   "cell_type": "markdown",
   "metadata": {},
   "source": [
    "List Compressions + Generator Expressions"
   ]
  },
  {
   "cell_type": "markdown",
   "metadata": {},
   "source": [
    "**listcomps** is mean to do one thing: **Build a new list**"
   ]
  },
  {
   "cell_type": "code",
   "execution_count": 4,
   "metadata": {
    "collapsed": false
   },
   "outputs": [
    {
     "data": {
      "text/plain": [
       "[('black', 'Benz'),\n",
       " ('black', 'Tesla'),\n",
       " ('white', 'Benz'),\n",
       " ('white', 'Tesla'),\n",
       " ('yellow', 'Benz'),\n",
       " ('yellow', 'Tesla')]"
      ]
     },
     "execution_count": 4,
     "metadata": {},
     "output_type": "execute_result"
    }
   ],
   "source": [
    "# Cartesian Product Example\n",
    "colors = ['black', 'white', 'yellow']\n",
    "cars = ['Benz', 'Tesla']\n",
    "combinations = [(color, car) for color in colors\n",
    "                              for car in cars]\n",
    "combinations "
   ]
  },
  {
   "cell_type": "markdown",
   "metadata": {},
   "source": [
    "**To build a nonlist sequences**, use **genexp**"
   ]
  },
  {
   "cell_type": "markdown",
   "metadata": {},
   "source": [
    "genexp saves memory as a **generator**"
   ]
  },
  {
   "cell_type": "code",
   "execution_count": 13,
   "metadata": {
    "collapsed": false
   },
   "outputs": [
    {
     "data": {
      "text/plain": [
       "True"
      ]
     },
     "execution_count": 13,
     "metadata": {},
     "output_type": "execute_result"
    }
   ],
   "source": [
    "import array\n",
    "from collections import Generator\n",
    "\n",
    "gen = (ord(symbol) for symbol in 'ABC') # USE ( ) INSTEAD OF [ ] TO CREATE A GENERATOR\n",
    "t = tuple(gen) # THEN USE THIS GENERATOR TO CREATE genex\n",
    "a = array.array('I', (ord(symbol) for symbol in 'ABC')) # 'I' means datatype of array\n",
    "\n",
    "isinstance(gen, Generator)"
   ]
  },
  {
   "cell_type": "code",
   "execution_count": 10,
   "metadata": {
    "collapsed": false
   },
   "outputs": [
    {
     "name": "stdout",
     "output_type": "stream",
     "text": [
      "('black', 'Benz')\n",
      "('black', 'Tesla')\n",
      "('white', 'Benz')\n",
      "('white', 'Tesla')\n",
      "('yellow', 'Benz')\n",
      "('yellow', 'Tesla')\n"
     ]
    }
   ],
   "source": [
    "# Cartesian Product in genexp\n",
    "colors = ['black', 'white', 'yellow']\n",
    "cars = ['Benz', 'Tesla']\n",
    "for comb in ((color, car) for color in colors for car in cars):\n",
    "    print(comb)\n",
    "    \n",
    "# It's really meaningful to use genexp here, because it saves lots of memory. "
   ]
  },
  {
   "cell_type": "raw",
   "metadata": {},
   "source": [
    "MOST IMPORTANT:\n",
    "    - [ ] listcomps\n",
    "    - ( ) genexp"
   ]
  },
  {
   "cell_type": "markdown",
   "metadata": {},
   "source": [
    "Tuple"
   ]
  },
  {
   "cell_type": "markdown",
   "metadata": {},
   "source": [
    "- Tuple can be used as **immutable lists** \n",
    "- And also as **records** with no field names"
   ]
  },
  {
   "cell_type": "code",
   "execution_count": 16,
   "metadata": {
    "collapsed": false
   },
   "outputs": [
    {
     "name": "stdout",
     "output_type": "stream",
     "text": [
      "jane 124412\n",
      "mike 12345\n"
     ]
    }
   ],
   "source": [
    "# RECORDs\n",
    "travel_id = [('mike', 12345), ('jane', 124412)] # list of tuples\n",
    "for passport in sorted(travel_id):\n",
    "    print('%s %s'% passport)\n",
    "    \n",
    "# It's quiete cool that % formatter understand tuples and split it automatically!"
   ]
  },
  {
   "cell_type": "markdown",
   "metadata": {},
   "source": [
    "#### tuple unpack (tuple unpacking works with any iterable objects)"
   ]
  },
  {
   "cell_type": "code",
   "execution_count": 29,
   "metadata": {
    "collapsed": false
   },
   "outputs": [
    {
     "data": {
      "text/plain": [
       "12"
      ]
     },
     "execution_count": 29,
     "metadata": {},
     "output_type": "execute_result"
    },
    {
     "data": {
      "text/plain": [
       "5"
      ]
     },
     "execution_count": 29,
     "metadata": {},
     "output_type": "execute_result"
    },
    {
     "data": {
      "text/plain": [
       "5"
      ]
     },
     "execution_count": 29,
     "metadata": {},
     "output_type": "execute_result"
    },
    {
     "data": {
      "text/plain": [
       "12"
      ]
     },
     "execution_count": 29,
     "metadata": {},
     "output_type": "execute_result"
    },
    {
     "data": {
      "text/plain": [
       "8"
      ]
     },
     "execution_count": 29,
     "metadata": {},
     "output_type": "execute_result"
    }
   ],
   "source": [
    "coordinate = (12, 5)\n",
    "x, y = coordinate\n",
    "x\n",
    "y\n",
    "\n",
    "# elegant value swapping without using a temporary variable\n",
    "# because (x, y) on the right side are understood as a tuple\n",
    "x, y = y, x\n",
    "x\n",
    "y"
   ]
  },
  {
   "cell_type": "code",
   "execution_count": 31,
   "metadata": {
    "collapsed": false
   },
   "outputs": [
    {
     "data": {
      "text/plain": [
       "8"
      ]
     },
     "execution_count": 31,
     "metadata": {},
     "output_type": "execute_result"
    },
    {
     "data": {
      "text/plain": [
       "8"
      ]
     },
     "execution_count": 31,
     "metadata": {},
     "output_type": "execute_result"
    }
   ],
   "source": [
    "# prefix with a * when calling a function\n",
    "f = lambda a, b: a**b\n",
    "f(2, 3)\n",
    "parameters = (2, 3)\n",
    "f(*parameters) # actively unpacking!"
   ]
  },
  {
   "cell_type": "code",
   "execution_count": 33,
   "metadata": {
    "collapsed": false
   },
   "outputs": [
    {
     "data": {
      "text/plain": [
       "'fluent_python.py'"
      ]
     },
     "execution_count": 33,
     "metadata": {},
     "output_type": "execute_result"
    }
   ],
   "source": [
    "# os.path tuple unpacking\n",
    "import os\n",
    "_, filename = os.path.split('/desktop/fluent_python.py')\n",
    "filename\n",
    "\n",
    "# dummy variable _ is very useful"
   ]
  },
  {
   "cell_type": "code",
   "execution_count": 37,
   "metadata": {
    "collapsed": false
   },
   "outputs": [
    {
     "data": {
      "text/plain": [
       "(0, 1, [2, 3, 4])"
      ]
     },
     "execution_count": 37,
     "metadata": {},
     "output_type": "execute_result"
    },
    {
     "data": {
      "text/plain": [
       "(0, [1, 2, 3, 4, 5], 6)"
      ]
     },
     "execution_count": 37,
     "metadata": {},
     "output_type": "execute_result"
    },
    {
     "data": {
      "text/plain": [
       "(0, 1, [])"
      ]
     },
     "execution_count": 37,
     "metadata": {},
     "output_type": "execute_result"
    }
   ],
   "source": [
    "# using * to grab excess items !\n",
    "# actively packing!\n",
    "# fucking cool\n",
    "a, b, *rest = range(5)\n",
    "a, b, rest\n",
    "a, *middle, c = range(7)\n",
    "a, middle, c\n",
    "a, b, *rest = range(2)\n",
    "a, b, rest            # empty list"
   ]
  },
  {
   "cell_type": "raw",
   "metadata": {},
   "source": [
    "*args / **kwargs\n",
    "*args 可以成批导入 arguments 变为 tuples\n",
    "\t  可以将 tuples 拆分 作为函数输入\n",
    "**kwargs 可以将 key arguments 变成 dict\n",
    "\t\t 可以将 dict 拆分 作为函数输入\n",
    "         \n",
    "         "
   ]
  },
  {
   "cell_type": "code",
   "execution_count": 40,
   "metadata": {
    "collapsed": false
   },
   "outputs": [
    {
     "name": "stdout",
     "output_type": "stream",
     "text": [
      "                |   lat.    |   long.  \n",
      "Tokyo           |   35.6897 |  139.6917\n",
      "Delhi NCR       |   28.6139 |   77.2089\n",
      "Mexico City     |   19.4333 |  -99.1333\n",
      "New York-Newark |   40.8086 |  -74.0204\n"
     ]
    }
   ],
   "source": [
    "# POWER: nested tuple unpacking\n",
    "metro_areas = [\n",
    "    ('Tokyo', 'JP', 36.933, (35.689722, 139.691667)),\n",
    "    ('Delhi NCR', 'IN', 21.935, (28.613889, 77.208889)),\n",
    "    ('Mexico City', 'MX', 20.142, (19.433333, -99.133333)),\n",
    "    ('New York-Newark', 'US', 20.104, (40.808611, -74.020386)),\n",
    "    ('Sao Paulo', 'BR', 19.649, (-23.547778, -46.635833)),\n",
    "]\n",
    "print('{:15} | {:^9} | {:^9}'.format('', 'lat.', 'long.'))\n",
    "# save the format !\n",
    "fmt = '{:15} | {:9.4f} | {:9.4f}'\n",
    "for city, _, _, (lat, long) in metro_areas:\n",
    "    if lat >= 0:\n",
    "        print(fmt.format(city, lat, long))\n",
    "        \n",
    "# fukcing cool!"
   ]
  },
  {
   "cell_type": "markdown",
   "metadata": {},
   "source": [
    "Named Tuples (take exactly same amount of memory as tuples!)\n",
    "- enhanced tuple with field names and class names"
   ]
  },
  {
   "cell_type": "code",
   "execution_count": 47,
   "metadata": {
    "collapsed": false
   },
   "outputs": [
    {
     "data": {
      "text/plain": [
       "City(name='Beijing', country='CN', population='20m', corrdinates='0,0')"
      ]
     },
     "execution_count": 47,
     "metadata": {},
     "output_type": "execute_result"
    },
    {
     "data": {
      "text/plain": [
       "'CN'"
      ]
     },
     "execution_count": 47,
     "metadata": {},
     "output_type": "execute_result"
    },
    {
     "data": {
      "text/plain": [
       "'CN'"
      ]
     },
     "execution_count": 47,
     "metadata": {},
     "output_type": "execute_result"
    }
   ],
   "source": [
    "from collections import namedtuple\n",
    "# parameters: (class name, iterable field names)\n",
    "# Card\n",
    "Card = namedtuple('Card', ['rank', 'suit']) # way 1, iterable list\n",
    "\n",
    "# City\n",
    "City = namedtuple('City', 'name country population corrdinates') # way 2, iterable string\n",
    "bj = City('Beijing', 'CN', '20m', '0,0')\n",
    "bj\n",
    "bj[1] # position\n",
    "bj.country # field name"
   ]
  },
  {
   "cell_type": "code",
   "execution_count": 54,
   "metadata": {
    "collapsed": false
   },
   "outputs": [
    {
     "data": {
      "text/plain": [
       "('name', 'country', 'population', 'corrdinates')"
      ]
     },
     "execution_count": 54,
     "metadata": {},
     "output_type": "execute_result"
    },
    {
     "data": {
      "text/plain": [
       "City(name='Sydney', country='AU', population='6m', corrdinates='12,12')"
      ]
     },
     "execution_count": 54,
     "metadata": {},
     "output_type": "execute_result"
    },
    {
     "data": {
      "text/plain": [
       "OrderedDict([('name', 'Sydney'),\n",
       "             ('country', 'AU'),\n",
       "             ('population', '6m'),\n",
       "             ('corrdinates', '12,12')])"
      ]
     },
     "execution_count": 54,
     "metadata": {},
     "output_type": "execute_result"
    }
   ],
   "source": [
    "# three useful methods for namedtuple\n",
    "# - _field: show all the methods as tuples (population, name, coordinates)\n",
    "# - _make: create a new instance (same as City(*data))\n",
    "# - _asdict: transfer the type to OrderedDict\n",
    "\n",
    "City._fields # show all the field names\n",
    "\n",
    "sydney_data = ('Sydney', 'AU', '6m', '12,12')\n",
    "sydney = City._make(sydney_data) # same as City(*sydney_data), actively unpacking\n",
    "sydney\n",
    "\n",
    "sydney._asdict() # collections.OrderedDict, easy to read"
   ]
  },
  {
   "cell_type": "raw",
   "metadata": {},
   "source": [
    "# IMMUTABLE LIST: TUPLE\n",
    "Compared to list, tuple just don't have add/remove item operations.\n",
    "\n",
    "\"Never put mutable item in tuples!\""
   ]
  },
  {
   "cell_type": "markdown",
   "metadata": {},
   "source": [
    "Slicing `[start:stop:step]`"
   ]
  },
  {
   "cell_type": "markdown",
   "metadata": {},
   "source": [
    "How slicing works?\n",
    "\n",
    "`seq.__getitem__(slice(start, stop, step))`\n",
    "\n",
    "Therefore, we can build slice functions:"
   ]
  },
  {
   "cell_type": "code",
   "execution_count": 58,
   "metadata": {
    "collapsed": false
   },
   "outputs": [
    {
     "name": "stdout",
     "output_type": "stream",
     "text": [
      "Michael  13\n"
     ]
    }
   ],
   "source": [
    "s = 'Michael 13'\n",
    "name = slice(0, 7)\n",
    "age = slice(7, 10)\n",
    "\n",
    "print(s[name], s[age])"
   ]
  },
  {
   "cell_type": "raw",
   "metadata": {},
   "source": [
    "- mutli-dimensional array, USE THE FUCKIGN NUMPY!\n",
    "- ... `Ellipsis` is an object\n",
    "    x[i, ...] 等于 x[i, :, :, :] (多维切片)\n",
    "\tf(a, ... , z) （参数省略）"
   ]
  },
  {
   "cell_type": "markdown",
   "metadata": {},
   "source": [
    "Using + / * with sequences"
   ]
  },
  {
   "cell_type": "markdown",
   "metadata": {},
   "source": [
    "- Be awared of one thing, don't use + / * on a sequence which contains MUTABLE item"
   ]
  },
  {
   "cell_type": "code",
   "execution_count": 66,
   "metadata": {
    "collapsed": false
   },
   "outputs": [
    {
     "data": {
      "text/plain": [
       "[['_', 'X', '_'], ['_', 'X', '_'], ['_', 'X', '_']]"
      ]
     },
     "execution_count": 66,
     "metadata": {},
     "output_type": "execute_result"
    }
   ],
   "source": [
    "# Wrong way\n",
    "# inside ['_'] * 3 are mutable items here\n",
    "# they will reference to the same list\n",
    "board = [['_']*3]*3\n",
    "board[1][1] = 'X'\n",
    "board\n",
    "\n",
    "# Right way:\n",
    "_board = [['_'] * 3 for i in range(3)]\n",
    "# Because it is equivalent to\n",
    "_board = []\n",
    "for i in range(3):\n",
    "    row = ['_'] * 3\n",
    "    _board.append(row)"
   ]
  },
  {
   "cell_type": "markdown",
   "metadata": {},
   "source": [
    "concatenation += / *= \n",
    "- `(__iadd__) (__imul__)`\n",
    "- Be awared that repeat concatenation of IMMUTABLE sequence is NOT efficient"
   ]
  },
  {
   "cell_type": "code",
   "execution_count": 73,
   "metadata": {
    "collapsed": false
   },
   "outputs": [
    {
     "data": {
      "text/plain": [
       "4385342408"
      ]
     },
     "execution_count": 73,
     "metadata": {},
     "output_type": "execute_result"
    },
    {
     "data": {
      "text/plain": [
       "4385342408"
      ]
     },
     "execution_count": 73,
     "metadata": {},
     "output_type": "execute_result"
    },
    {
     "data": {
      "text/plain": [
       "4385504784"
      ]
     },
     "execution_count": 73,
     "metadata": {},
     "output_type": "execute_result"
    },
    {
     "data": {
      "text/plain": [
       "4379212080"
      ]
     },
     "execution_count": 73,
     "metadata": {},
     "output_type": "execute_result"
    }
   ],
   "source": [
    "# list, efficient\n",
    "l = [1, 2, 3] \n",
    "id(l)\n",
    "l *= 3\n",
    "id(l) # same id\n",
    "\n",
    "# tuple, NOT efficient\n",
    "t = (1, 2, 3)\n",
    "id(t)\n",
    "t *= 3\n",
    "id(t) # diff id, because it create a new tuple instead of reference\n",
    "\n",
    "# string is an exception, because CPython will provide extra space for it when initializing"
   ]
  },
  {
   "cell_type": "markdown",
   "metadata": {},
   "source": [
    "`list.sort() / sorted(list)`      **Timsort**"
   ]
  },
  {
   "cell_type": "raw",
   "metadata": {},
   "source": [
    "sort\n",
    "- return None\n",
    "- replace the original list\n",
    "\n",
    "sorted\n",
    "- return new_list\n",
    "- doesn't change the original list"
   ]
  },
  {
   "cell_type": "raw",
   "metadata": {},
   "source": [
    "@Parameters\n",
    "- reverse: increasing/decreasing order\n",
    "- key: key=len, key=str.lower, key=map_function"
   ]
  },
  {
   "cell_type": "markdown",
   "metadata": {},
   "source": [
    "bisect()\n",
    "- bisect.bisect(haystack, needle) is useful for categorizing numeric data (put needles in the iterable)\n",
    "- bisect.insort(seq, item) is useful for inserting the data and keep the seq in asending order. Keeps the list always sorted."
   ]
  },
  {
   "cell_type": "raw",
   "metadata": {},
   "source": [
    "bisect()\n",
    "    >>> def grade(score, breakpoints=[60, 70, 80, 90], grades='FDCBA'):\n",
    "\t... i = bisect.bisect(breakpoints, score)\n",
    "\t... return grades[i]\n",
    "\t...\n",
    "\t>>> [grade(score) for score in [33, 99, 77, 70, 89, 90, 100]]\n",
    "    \t['F', 'A', 'C', 'C', 'B', 'A', 'A']"
   ]
  },
  {
   "cell_type": "code",
   "execution_count": 83,
   "metadata": {
    "collapsed": false
   },
   "outputs": [
    {
     "data": {
      "text/plain": [
       "[1, 2, 5, 5, 5, 7, 8, 9, 9, 9]"
      ]
     },
     "execution_count": 83,
     "metadata": {},
     "output_type": "execute_result"
    }
   ],
   "source": [
    "# insort()\n",
    "\n",
    "# faster then insert()\n",
    "import bisect\n",
    "from random import choice\n",
    "\n",
    "nbs = [i for i in range(10)]\n",
    "lst = []\n",
    "for i in range(10):\n",
    "    nb = choice(nbs)\n",
    "    bisect.insort(lst, nb)\n",
    "lst\n",
    "# fucking cool"
   ]
  },
  {
   "cell_type": "markdown",
   "metadata": {},
   "source": [
    "When not to use a list?\n",
    "- ten millions of float -> array\n",
    "- FIFO -> deque\n",
    "- containment check -> set"
   ]
  },
  {
   "cell_type": "markdown",
   "metadata": {},
   "source": [
    "array (if you only want to contain numbers)\n",
    "- `array.tofile(filename) / arra.fromfile(filename)` is very 6 times faster compared to reading from text file. `List` doesn't have this method\n",
    "- `pickle()` can do the same job, also very fast\n",
    "- you can use `sorted()` but not `sort()` on array"
   ]
  },
  {
   "cell_type": "raw",
   "metadata": {},
   "source": [
    "deque\n",
    "- use it when you want to fast inserting/removing from BOTH ENDS\n",
    "\n",
    "- `maxlen`: will just hold this many elements. FIFO\n",
    "   如果超过maxlen: - append 会挤掉左边元素\n",
    "\t\t\t\t  - appendleft 会挤掉右边元素\n",
    "                  \n",
    "- `deque.rotate(n)`: n > 0, 最右边 n 个元素移到最左边\n",
    "\t\t\t\t\t   n < 0, 最左边 n 个元素移到最右边\n",
    "                       \n",
    "- `deque.extend(list) / deque.extendleft(list)` 直接插入多项数据\n",
    "- `deque.popleft / deque.pop`"
   ]
  },
  {
   "cell_type": "code",
   "execution_count": 99,
   "metadata": {
    "collapsed": false
   },
   "outputs": [
    {
     "data": {
      "text/plain": [
       "deque([0, 1, 2, 3, 4, 5, 6, 7, 8, 9])"
      ]
     },
     "execution_count": 99,
     "metadata": {},
     "output_type": "execute_result"
    },
    {
     "data": {
      "text/plain": [
       "deque([1, 2, 3, 4, 5, 6, 7, 8, 9, 10])"
      ]
     },
     "execution_count": 99,
     "metadata": {},
     "output_type": "execute_result"
    },
    {
     "data": {
      "text/plain": [
       "deque([9, 10, 1, 2, 3, 4, 5, 6, 7, 8])"
      ]
     },
     "execution_count": 99,
     "metadata": {},
     "output_type": "execute_result"
    },
    {
     "data": {
      "text/plain": [
       "deque([2, 3, 4, 5, 6, 7, 8, 'x', 'y', 'z'])"
      ]
     },
     "execution_count": 99,
     "metadata": {},
     "output_type": "execute_result"
    },
    {
     "data": {
      "text/plain": [
       "deque(['c', 'b', 'a', 2, 3, 4, 5, 6, 7, 8])"
      ]
     },
     "execution_count": 99,
     "metadata": {},
     "output_type": "execute_result"
    }
   ],
   "source": [
    "from collections import deque\n",
    "\n",
    "dq = deque(range(10), maxlen=10)\n",
    "dq\n",
    "\n",
    "dq.append(10)\n",
    "dq\n",
    "\n",
    "dq.rotate(2)\n",
    "dq\n",
    "\n",
    "dq.extend(['x', 'y', 'z'])\n",
    "dq\n",
    "\n",
    "dq.extendleft(['a', 'b', 'c'])\n",
    "dq"
   ]
  },
  {
   "cell_type": "markdown",
   "metadata": {},
   "source": [
    "One more thing\n",
    "- The problem of mutable sequence is that they have limit to stroing atomic data (chars, int, float, bytes) "
   ]
  }
 ],
 "metadata": {
  "anaconda-cloud": {},
  "kernelspec": {
   "display_name": "Python [Root]",
   "language": "python",
   "name": "Python [Root]"
  },
  "language_info": {
   "codemirror_mode": {
    "name": "ipython",
    "version": 3
   },
   "file_extension": ".py",
   "mimetype": "text/x-python",
   "name": "python",
   "nbconvert_exporter": "python",
   "pygments_lexer": "ipython3",
   "version": "3.5.2"
  }
 },
 "nbformat": 4,
 "nbformat_minor": 0
}
