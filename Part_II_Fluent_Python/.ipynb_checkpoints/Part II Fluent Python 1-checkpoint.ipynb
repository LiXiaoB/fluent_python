{
 "cells": [
  {
   "cell_type": "markdown",
   "metadata": {},
   "source": [
    "## Part II Fluent Python 1"
   ]
  },
  {
   "cell_type": "markdown",
   "metadata": {},
   "source": [
    "Finally, I'm here to be *Pythonic*. Part II notes follows *[Luciano Ramalho's Fluent Python](http://shop.oreilly.com/product/0636920032519.do)*"
   ]
  },
  {
   "cell_type": "code",
   "execution_count": 20,
   "metadata": {
    "collapsed": true
   },
   "outputs": [],
   "source": [
    "# RUN IT\n",
    "# Display multiple interactive objects in one shell\n",
    "# No Need for print function\n",
    "from IPython.core.interactiveshell import InteractiveShell\n",
    "InteractiveShell.ast_node_interactivity = \"all\""
   ]
  },
  {
   "cell_type": "markdown",
   "metadata": {},
   "source": [
    "### Chapter 1: Data(Object) Model\n",
    "- Card.py\n",
    "- Vector.py"
   ]
  },
  {
   "cell_type": "markdown",
   "metadata": {},
   "source": [
    "[Python Doc: Data Model](https://docs.python.org/3/reference/datamodel.html)"
   ]
  },
  {
   "cell_type": "markdown",
   "metadata": {},
   "source": [
    "By implementing special methods, your objects can behave like the built-in types, en‐\n",
    "abling the expressive coding style the community considers Pythonic"
   ]
  },
  {
   "cell_type": "raw",
   "metadata": {},
   "source": [
    "__method__ are called: \"magic\" or \"dunder\" method"
   ]
  },
  {
   "cell_type": "raw",
   "metadata": {
    "collapsed": true
   },
   "source": [
    "__repr__\n",
    "当我们想所有环境下都统一显示的话，可以重构__repr__方法；当我们想在不同环境下支持不同的显示，例如终端用户显示使用__str__，而程序员在开发期间则使用底层的__repr__来显示，实际上__str__只是覆盖了__repr__以得到更友好的用户显示。__repr__是更好的选择。\n",
    "\n",
    "__str__ \n",
    "\"pretty print\" \n",
    "if __str__ not defined, then __repr__ = __str__"
   ]
  },
  {
   "cell_type": "raw",
   "metadata": {},
   "source": [
    "__boo__\n",
    "bool(x) 的背后是调用 x.__bool__() 的结果；如果不存在 __bool__ 方法，那么 bool(x) 会尝试调用 x.__len__():若返回 0，则 bool 会返回 False；否则返回 True。"
   ]
  },
  {
   "cell_type": "code",
   "execution_count": 26,
   "metadata": {
    "collapsed": false
   },
   "outputs": [
    {
     "data": {
      "text/plain": [
       "52"
      ]
     },
     "execution_count": 26,
     "metadata": {},
     "output_type": "execute_result"
    },
    {
     "data": {
      "text/plain": [
       "Card(rank='2', suit='hearts')"
      ]
     },
     "execution_count": 26,
     "metadata": {},
     "output_type": "execute_result"
    },
    {
     "data": {
      "text/plain": [
       "[Card(rank='5', suit='spades'),\n",
       " Card(rank='8', suit='diamonds'),\n",
       " Card(rank='J', suit='clubs'),\n",
       " Card(rank='A', suit='hearts')]"
      ]
     },
     "execution_count": 26,
     "metadata": {},
     "output_type": "execute_result"
    },
    {
     "name": "stdout",
     "output_type": "stream",
     "text": [
      "Card(rank='2', suit='diamonds')\n",
      "Card(rank='3', suit='diamonds')\n",
      "Card(rank='4', suit='diamonds')\n",
      "Card(rank='5', suit='diamonds')\n",
      "Card(rank='6', suit='diamonds')\n",
      "Card(rank='7', suit='diamonds')\n",
      "Card(rank='8', suit='diamonds')\n",
      "Card(rank='9', suit='diamonds')\n",
      "Card(rank='10', suit='diamonds')\n",
      "Card(rank='J', suit='diamonds')\n",
      "Card(rank='Q', suit='diamonds')\n",
      "Card(rank='K', suit='diamonds')\n",
      "Card(rank='A', suit='diamonds')\n"
     ]
    },
    {
     "data": {
      "text/plain": [
       "Card(rank='Q', suit='hearts')"
      ]
     },
     "execution_count": 26,
     "metadata": {},
     "output_type": "execute_result"
    }
   ],
   "source": [
    "# Card.py\n",
    "# A deck of playing cards\n",
    "import collections\n",
    "\n",
    "# namedtuple can be used to build classes of objects \n",
    "# that are just bundles of attributes with no custom methods\n",
    "Card = collections.namedtuple('Card', ['rank', 'suit'])\n",
    "\n",
    "class FrecnchDeck:\n",
    "    \n",
    "    ranks = [str(nb) for nb in range(2, 11)] + list('JQKA') # list comprehension\n",
    "    suits = 'spades diamonds clubs hearts'.split()\n",
    "    \n",
    "    def __init__(self):\n",
    "        self._cards = [Card(rank, suit) for rank in self.ranks\n",
    "                                        for suit in self.suits]\n",
    "        \n",
    "    # magic method: __len__\n",
    "    def __len__(self):\n",
    "        return len(self._cards)\n",
    "    \n",
    "    # magic method: __getitem\n",
    "    def __getitem__(self, position):\n",
    "        return self._cards[position]\n",
    "\n",
    "deck = FrecnchDeck()\n",
    "len(deck)\n",
    "deck[3]\n",
    "deck[12::13] # slicing !\n",
    "for card in deck: # iterable !\n",
    "    if card.suit == 'diamonds':\n",
    "        print(card)\n",
    "\n",
    "# random card\n",
    "from random import choice\n",
    "choice(deck)"
   ]
  },
  {
   "cell_type": "raw",
   "metadata": {
    "collapsed": true
   },
   "source": [
    "Iteration is often implicit. If a collection has no __contains__ method, the in operator\n",
    "does a sequential scan. "
   ]
  },
  {
   "cell_type": "code",
   "execution_count": 27,
   "metadata": {
    "collapsed": false
   },
   "outputs": [
    {
     "data": {
      "text/plain": [
       "True"
      ]
     },
     "execution_count": 27,
     "metadata": {},
     "output_type": "execute_result"
    }
   ],
   "source": [
    "Card(rank='A', suit='hearts') in deck # sequential scan"
   ]
  },
  {
   "cell_type": "raw",
   "metadata": {},
   "source": [
    "How Special Methods Are Used?\n",
    "\n",
    "- The first thing to know about special methods is that they are meant to be called by the\n",
    "Python interpreter, and not by you.\n",
    "- Normally, your code should not have many direct calls to special methods.\n",
    "- If you need to invoke a special method, it is usually better to call the related built-in\n",
    "function (e.g., len, iter, str, etc). "
   ]
  }
 ],
 "metadata": {
  "anaconda-cloud": {},
  "kernelspec": {
   "display_name": "Python [Root]",
   "language": "python",
   "name": "Python [Root]"
  },
  "language_info": {
   "codemirror_mode": {
    "name": "ipython",
    "version": 3
   },
   "file_extension": ".py",
   "mimetype": "text/x-python",
   "name": "python",
   "nbconvert_exporter": "python",
   "pygments_lexer": "ipython3",
   "version": "3.5.2"
  }
 },
 "nbformat": 4,
 "nbformat_minor": 0
}
