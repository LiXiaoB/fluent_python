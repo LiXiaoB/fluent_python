{
 "cells": [
  {
   "cell_type": "code",
   "execution_count": null,
   "metadata": {
    "collapsed": true
   },
   "outputs": [],
   "source": [
    "git add 和 commit 记录的是修改部分"
   ]
  },
  {
   "cell_type": "code",
   "execution_count": null,
   "metadata": {
    "collapsed": true
   },
   "outputs": [],
   "source": [
    "git status 检查当前仓库状态，看是否有修改未保存的地方\n",
    "git diff 查看具体修改的内容（如果有修改未add的地方）\n",
    "git add file.txt 加入修改\n",
    "git commit -m \"msg\" 提交修改\n",
    "\n",
    "git log 查看修改日志\n",
    "git log --pretty=oneline 一行显示"
   ]
  },
  {
   "cell_type": "markdown",
   "metadata": {},
   "source": [
    "### 时光倒流"
   ]
  },
  {
   "cell_type": "raw",
   "metadata": {},
   "source": [
    "穿梭前记得查看 git log 版本"
   ]
  },
  {
   "cell_type": "raw",
   "metadata": {},
   "source": [
    "HEAD 当前版本\n",
    "HEAD^ 上一个版本\n",
    "HEAD^^ 上上一个版本\n",
    "HEAD~100 上一百个版本"
   ]
  },
  {
   "cell_type": "raw",
   "metadata": {},
   "source": [
    "git reset --hard HEAD^ 返回上一个版本\n",
    "git reset --hard commit_id 返回特定一个版本"
   ]
  },
  {
   "cell_type": "raw",
   "metadata": {},
   "source": [
    "commit_id 可以在 git log 中查看，例如\n",
    "\n",
    "commit 97a9ba34186144e5c6d1751d765c54809a8afd50\n",
    "Author: Zhengting Li <heyimzhengting@gmail.com>\n",
    "Date:   Mon Jan 22 20:53:11 2018 +0800\n",
    "\n",
    "    1-9\n",
    "\n",
    "commit_id 只需要输入前几位 97a9ba34 即可， git 可以自动查找"
   ]
  },
  {
   "cell_type": "markdown",
   "metadata": {},
   "source": [
    "### 重返未来"
   ]
  },
  {
   "cell_type": "raw",
   "metadata": {},
   "source": [
    "需要用到 git reflog， 这个命令记录了你历史的每一次 command, 包括 commit_id"
   ]
  },
  {
   "cell_type": "markdown",
   "metadata": {},
   "source": [
    "### 缓存区(stage)和工作区"
   ]
  },
  {
   "cell_type": "raw",
   "metadata": {},
   "source": [
    "工作区就是工作区\n",
    "\n",
    "git add 是把工作区内容提交到暂存区\n",
    "git commit 是把暂存区的内容一次性的提交到 branch\n",
    "\n",
    "你可以简单理解为，需要提交的文件修改通通放到暂存区，然后，一次性提交暂存区的所有修改。"
   ]
  },
  {
   "cell_type": "markdown",
   "metadata": {},
   "source": [
    "### 撤销(unstage)修改"
   ]
  },
  {
   "cell_type": "raw",
   "metadata": {},
   "source": [
    "git checkout -- file.txt \n",
    "可以把工作区恢复到上一次 add 或者 commit 的状态：\n",
    "- 如果没有 add， 那么就直接回复到上一个版本\n",
    "- 如果有 add，恢复到上一个 add 的版本"
   ]
  },
  {
   "cell_type": "raw",
   "metadata": {},
   "source": [
    "如果想撤销缓存区中的修改怎么办？\n",
    "git reset HEAD file.txt"
   ]
  },
  {
   "cell_type": "markdown",
   "metadata": {},
   "source": [
    "### 删除\n",
    "- git checkout 其实是用版本库里的版本替换工作区的版本，无论工作区是修改还是删除，都可以“一键还原”。"
   ]
  },
  {
   "cell_type": "raw",
   "metadata": {},
   "source": [
    "rm file.txt 磁盘删除\n",
    "git checkout -- test.txt 从版本库中恢复文件"
   ]
  },
  {
   "cell_type": "raw",
   "metadata": {},
   "source": [
    "git rm file.txt 版本库中也删除（彻底删除）"
   ]
  },
  {
   "cell_type": "markdown",
   "metadata": {},
   "source": [
    "### 远程仓库"
   ]
  },
  {
   "cell_type": "markdown",
   "metadata": {},
   "source": [
    "- 两种办法保护敏感代码，交费private 或者 自己搭建 git 服务器（非常简单）"
   ]
  },
  {
   "cell_type": "raw",
   "metadata": {},
   "source": [
    "建立仓库后\n",
    "git remote add origin git@github.com:michaelliao/learngit.git\n",
    "git push -u origin master"
   ]
  },
  {
   "cell_type": "markdown",
   "metadata": {},
   "source": [
    "- origin 是远程库的名字\n",
    "- 第一次提交需要 -u 为了关联分支，方便后面提交"
   ]
  },
  {
   "cell_type": "raw",
   "metadata": {},
   "source": [
    "git克隆, 最好使用 git://的地址，用的是 ssh 协议 比 https 速度快\n",
    "git clone git@github.com:michaelliao/gitskills.git"
   ]
  },
  {
   "cell_type": "markdown",
   "metadata": {},
   "source": [
    "### 平行宇宙之分支"
   ]
  },
  {
   "cell_type": "markdown",
   "metadata": {},
   "source": [
    "这个是常规的 fast-forward 快速合并，缺点是删除分支后，分支信息消失"
   ]
  },
  {
   "cell_type": "raw",
   "metadata": {},
   "source": [
    "git branch dev 建立分支\n",
    "git checkout dev 切换到分支"
   ]
  },
  {
   "cell_type": "raw",
   "metadata": {},
   "source": [
    "git branch 查看分支 *dev 为当前分支"
   ]
  },
  {
   "cell_type": "raw",
   "metadata": {},
   "source": [
    "修改过后，正常的 add 和 commit\n",
    "git checkout master 切换到 master\n",
    "git merge dev 合并分支到当前分支 master\n",
    "git branch -d dev 删除分支"
   ]
  },
  {
   "cell_type": "markdown",
   "metadata": {},
   "source": [
    "分支冲突"
   ]
  },
  {
   "cell_type": "raw",
   "metadata": {},
   "source": [
    "merge conflict：当 dev 和 master 同时都修改一个文件的相同一块内容，且两个 branch 都进行了 add + commit，\n",
    "                就有可能出现 merge conflict!\n",
    "解决办法：手动解决 conflict 之后， 再次 add + commit"
   ]
  },
  {
   "cell_type": "markdown",
   "metadata": {},
   "source": [
    "团队开发版本策略(推荐)"
   ]
  },
  {
   "cell_type": "raw",
   "metadata": {},
   "source": [
    "master 分支不能动，只有正式版本正式发布的时候才能从 dev 分支 merge 到 master\n",
    "dev 分支是干活的分支，不稳定\n",
    "每个人建立自己的分支，时不时的把工作成功往 dev 合并"
   ]
  },
  {
   "cell_type": "markdown",
   "metadata": {},
   "source": [
    "<img src=\"img/git_merge.png\">"
   ]
  },
  {
   "cell_type": "raw",
   "metadata": {},
   "source": [
    "合并分支时，加上--no-ff参数就可以用普通模式合并，合并后的历史有分支，能看出来曾经做过合并，而fast forward合并就看不出来曾经做过合并。\n",
    "git merge --no-ff -m \"merge with no-ff\" dev"
   ]
  },
  {
   "cell_type": "markdown",
   "metadata": {},
   "source": [
    "修复bug且不影响当前版本"
   ]
  },
  {
   "cell_type": "raw",
   "metadata": {},
   "source": [
    "git stash 储存当前未完成版本\n",
    "git checkout master\n",
    "git branch bug-110\n",
    "git checkout bug-110\n",
    "修复bug + add + commit \n",
    "git branch master\n",
    "git merge --on-ff -m \"bug fixed\" bug-110\n",
    "git branch -d bug-110\n",
    "修复完毕，返回未完成版本\n",
    "git stash list\n",
    "git stash pop"
   ]
  },
  {
   "cell_type": "raw",
   "metadata": {},
   "source": [
    "如果要开发一个新的 feature，最好新建一个分支\n",
    "删除分支 git branch -D feature001"
   ]
  },
  {
   "cell_type": "markdown",
   "metadata": {},
   "source": [
    "合作开发"
   ]
  },
  {
   "cell_type": "raw",
   "metadata": {},
   "source": [
    "master分支是主分支，因此要时刻与远程同步；\n",
    "\n",
    "dev分支是开发分支，团队所有成员都需要在上面工作，所以也需要与远程同步；\n",
    "\n",
    "bug分支只用于在本地修复bug，就没必要推到远程了，除非老板要看看你每周到底修复了几个bug；\n",
    "\n",
    "feature分支是否推到远程，取决于你是否和你的小伙伴合作在上面开发。"
   ]
  },
  {
   "cell_type": "raw",
   "metadata": {},
   "source": [
    "git push origin dev 推送到 dev 分支"
   ]
  },
  {
   "cell_type": "markdown",
   "metadata": {},
   "source": [
    "### 标签管理"
   ]
  },
  {
   "cell_type": "raw",
   "metadata": {},
   "source": [
    "git tag v1.0 当前\n",
    "git tag v1.0 commit_id 特定版本\n",
    "git tag 查看标签\n",
    "git show v1.0 查看版本\n",
    "git tag -a <tagname> -m \"blablabla...\"可以指定标签信息\n",
    "git tag -d v1.0 删除\n",
    "推送标签\n",
    "git push origin --tags\n",
    "git push origin v1.0"
   ]
  },
  {
   "cell_type": "markdown",
   "metadata": {},
   "source": [
    "### 其他"
   ]
  },
  {
   "cell_type": "raw",
   "metadata": {},
   "source": [
    "fork 开源项目\n",
    "修改后 push 上去\n",
    "然后发起 pull request， 作者就会考虑是否接受"
   ]
  },
  {
   "cell_type": "raw",
   "metadata": {},
   "source": [
    ".gitignore 设置的是你不想提交的敏感文件"
   ]
  },
  {
   "cell_type": "markdown",
   "metadata": {},
   "source": [
    "[自己搭建 git 服务器](https://www.liaoxuefeng.com/wiki/0013739516305929606dd18361248578c67b8067c8c017b000/00137583770360579bc4b458f044ce7afed3df579123eca000)"
   ]
  }
 ],
 "metadata": {
  "kernelspec": {
   "display_name": "Python [Root]",
   "language": "python",
   "name": "Python [Root]"
  },
  "language_info": {
   "codemirror_mode": {
    "name": "ipython",
    "version": 3
   },
   "file_extension": ".py",
   "mimetype": "text/x-python",
   "name": "python",
   "nbconvert_exporter": "python",
   "pygments_lexer": "ipython3",
   "version": "3.5.2"
  }
 },
 "nbformat": 4,
 "nbformat_minor": 0
}
