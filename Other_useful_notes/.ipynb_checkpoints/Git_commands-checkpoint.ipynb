{
 "cells": [
  {
   "cell_type": "code",
   "execution_count": null,
   "metadata": {
    "collapsed": true
   },
   "outputs": [],
   "source": [
    "git status 检查当前仓库状态，看是否有修改未保存的地方\n",
    "git diff 查看具体修改的内容（如果有修改未保存的地方）\n",
    "git add file.txt 加入修改\n",
    "git commit -m \"msg\" 提交修改\n",
    "\n",
    "git log 查看修改日志\n",
    "git log --pretty=oneline 一行显示"
   ]
  },
  {
   "cell_type": "markdown",
   "metadata": {},
   "source": [
    "### 时光倒流"
   ]
  },
  {
   "cell_type": "raw",
   "metadata": {},
   "source": [
    "穿梭前记得查看 git log 版本"
   ]
  },
  {
   "cell_type": "raw",
   "metadata": {},
   "source": [
    "HEAD 当前版本\n",
    "HEAD^ 上一个版本\n",
    "HEAD^^ 上上一个版本\n",
    "HEAD~100 上一百个版本"
   ]
  },
  {
   "cell_type": "raw",
   "metadata": {},
   "source": [
    "git reset --hard HEAD^ 返回上一个版本\n",
    "git reset --hard commit_id 返回特定一个版本"
   ]
  },
  {
   "cell_type": "raw",
   "metadata": {},
   "source": [
    "commit_id 可以在 git log 中查看，例如\n",
    "\n",
    "commit 97a9ba34186144e5c6d1751d765c54809a8afd50\n",
    "Author: Zhengting Li <heyimzhengting@gmail.com>\n",
    "Date:   Mon Jan 22 20:53:11 2018 +0800\n",
    "\n",
    "    1-9\n",
    "\n",
    "commit_id 只需要输入前几位 97a9ba34 即可， git 可以自动查找"
   ]
  },
  {
   "cell_type": "markdown",
   "metadata": {},
   "source": [
    "### 重返未来"
   ]
  },
  {
   "cell_type": "raw",
   "metadata": {},
   "source": [
    "需要用到 git reflog， 这个命令记录了你历史的每一次 command, 包括 commit_id"
   ]
  },
  {
   "cell_type": "markdown",
   "metadata": {},
   "source": [
    "### 缓存区(stage)和工作区"
   ]
  },
  {
   "cell_type": "raw",
   "metadata": {},
   "source": [
    "工作区就是工作区\n",
    "\n",
    "git add 是把工作区内容提交到暂存区\n",
    "git commit 是把暂存区的内容一次性的提交到 branch\n",
    "\n",
    "你可以简单理解为，需要提交的文件修改通通放到暂存区，然后，一次性提交暂存区的所有修改。"
   ]
  },
  {
   "cell_type": "markdown",
   "metadata": {},
   "source": [
    "### 撤销修改"
   ]
  },
  {
   "cell_type": "code",
   "execution_count": null,
   "metadata": {
    "collapsed": true
   },
   "outputs": [],
   "source": [
    "git checkout -- file.txt \n",
    "可以把工作区恢复到上一次 add 或者 commit 的状态：\n",
    "- 如果没有 add， 那么就直接回复到上一个版本\n",
    "- 如果有 add，恢复到上一个 add 的版本"
   ]
  }
 ],
 "metadata": {
  "kernelspec": {
   "display_name": "Python [Root]",
   "language": "python",
   "name": "Python [Root]"
  },
  "language_info": {
   "codemirror_mode": {
    "name": "ipython",
    "version": 3
   },
   "file_extension": ".py",
   "mimetype": "text/x-python",
   "name": "python",
   "nbconvert_exporter": "python",
   "pygments_lexer": "ipython3",
   "version": "3.5.2"
  }
 },
 "nbformat": 4,
 "nbformat_minor": 0
}
