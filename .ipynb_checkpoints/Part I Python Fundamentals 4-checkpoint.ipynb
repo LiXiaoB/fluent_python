{
 "cells": [
  {
   "cell_type": "markdown",
   "metadata": {},
   "source": [
    "# Part I Python Fundamentals 4"
   ]
  },
  {
   "cell_type": "markdown",
   "metadata": {},
   "source": [
    "This is my review note of Python for the purpose of self-study. The note mixes up with English & Chinese.\n",
    "- Part I follows the *[Liao's Python tutorial](https://www.liaoxuefeng.com/wiki/0014316089557264a6b348958f449949df42a6d3a2e542c000) (in Chinese)*"
   ]
  },
  {
   "cell_type": "code",
   "execution_count": 3,
   "metadata": {
    "collapsed": true
   },
   "outputs": [],
   "source": [
    "# Display multiple interactive objects in one shell\n",
    "# No Need for print function\n",
    "from IPython.core.interactiveshell import InteractiveShell\n",
    "InteractiveShell.ast_node_interactivity = \"all\""
   ]
  },
  {
   "cell_type": "markdown",
   "metadata": {},
   "source": [
    "### 8.错误、调试和测试"
   ]
  },
  {
   "cell_type": "markdown",
   "metadata": {},
   "source": [
    "错误\n",
    "- 可预测错误\n",
    "- 不可预测错误（异常）： 比如写入文件的时候，磁盘满了，写不进去了，或者从网络抓取数据，网络突然断掉了"
   ]
  },
  {
   "cell_type": "code",
   "execution_count": 10,
   "metadata": {
    "collapsed": false
   },
   "outputs": [
    {
     "name": "stdout",
     "output_type": "stream",
     "text": [
      "try...\n",
      "except: division by zero\n",
      "finally...\n"
     ]
    }
   ],
   "source": [
    "# 出现错误就会跳转到 except, 然后执行 finally\n",
    "try:\n",
    "    print('try...')\n",
    "    r = 10 / 0 # error\n",
    "    print('result:', r) # 不会被执行，直接跳转到 except\n",
    "except ZeroDivisionError as e:\n",
    "    print('except:', e)\n",
    "except ValueError as e:\n",
    "    print('ValueError')\n",
    "    \n",
    "# 此外，如果没有错误发生，可以在except语句块后面加一个else，当没有错误发生时，会自动执行else语句：\n",
    "else:\n",
    "    print('no error!')\n",
    "\n",
    "# 无论有没有 error, finally 都会被执行\n",
    "finally:\n",
    "    print('finally...')"
   ]
  },
  {
   "cell_type": "markdown",
   "metadata": {},
   "source": [
    "ython的错误其实也是class，所有的错误类型都继承自BaseException，所以在使用except时需要注意的是，它不但捕获该类型的错误，还把其子类也“一网打尽”"
   ]
  },
  {
   "cell_type": "raw",
   "metadata": {},
   "source": [
    "# 这个东西叫做异常栈\n",
    "Traceback (most recent call last):\n",
    "  File \"err.py\", line 11, in <module>\n",
    "    main()\n",
    "  File \"err.py\", line 9, in main\n",
    "    bar('0')\n",
    "  File \"err.py\", line 6, in bar\n",
    "    return foo(s) * 2\n",
    "  File \"err.py\", line 3, in foo\n",
    "    return 10 / int(s)\n",
    "ZeroDivisionError: division by zero"
   ]
  },
  {
   "cell_type": "markdown",
   "metadata": {},
   "source": [
    "logging\n",
    "- 记录错误，并且继续运行到底"
   ]
  },
  {
   "cell_type": "code",
   "execution_count": 18,
   "metadata": {
    "collapsed": false
   },
   "outputs": [
    {
     "name": "stdout",
     "output_type": "stream",
     "text": [
      "end\n"
     ]
    }
   ],
   "source": [
    "import logging\n",
    "\n",
    "try:\n",
    "    x = 10 / 0 # 出错\n",
    "except ZeroDivisionError as e:\n",
    "    logging.exception(e) # 记录错误，继续运行\n",
    "    \n",
    "print('end')"
   ]
  },
  {
   "cell_type": "markdown",
   "metadata": {},
   "source": [
    "抛出错误"
   ]
  },
  {
   "cell_type": "code",
   "execution_count": null,
   "metadata": {
    "collapsed": true
   },
   "outputs": [],
   "source": []
  }
 ],
 "metadata": {
  "anaconda-cloud": {},
  "kernelspec": {
   "display_name": "Python [Root]",
   "language": "python",
   "name": "Python [Root]"
  },
  "language_info": {
   "codemirror_mode": {
    "name": "ipython",
    "version": 3
   },
   "file_extension": ".py",
   "mimetype": "text/x-python",
   "name": "python",
   "nbconvert_exporter": "python",
   "pygments_lexer": "ipython3",
   "version": "3.5.2"
  }
 },
 "nbformat": 4,
 "nbformat_minor": 0
}
