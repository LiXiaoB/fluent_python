{
 "cells": [
  {
   "cell_type": "markdown",
   "metadata": {},
   "source": [
    "# Part I Python Fundamentals 5"
   ]
  },
  {
   "cell_type": "markdown",
   "metadata": {},
   "source": [
    "This is my review note of Python for the purpose of self-study. The note mixes up with English & Chinese.\n",
    "- Part I follows the *[Liao's Python tutorial](https://www.liaoxuefeng.com/wiki/0014316089557264a6b348958f449949df42a6d3a2e542c000) (in Chinese)*"
   ]
  },
  {
   "cell_type": "code",
   "execution_count": 40,
   "metadata": {
    "collapsed": true
   },
   "outputs": [],
   "source": [
    "# Display multiple interactive objects in one shell\n",
    "# No Need for print function\n",
    "from IPython.core.interactiveshell import InteractiveShell\n",
    "InteractiveShell.ast_node_interactivity = \"all\""
   ]
  },
  {
   "cell_type": "markdown",
   "metadata": {},
   "source": [
    "### 9. 进程和线程"
   ]
  },
  {
   "cell_type": "markdown",
   "metadata": {},
   "source": [
    "- Process: open a program (word, pyCharm ...)\n",
    "- Thread: tasks from the program (执行单元）"
   ]
  },
  {
   "cell_type": "markdown",
   "metadata": {},
   "source": [
    "Python Multi-thread:\n",
    "    - multi process + single thread\n",
    "    - single process + multi thread\n",
    "    - multi process + multi thread (complicated, not recommended)"
   ]
  },
  {
   "cell_type": "markdown",
   "metadata": {},
   "source": [
    "Multiprocessing"
   ]
  },
  {
   "cell_type": "markdown",
   "metadata": {},
   "source": [
    "Unix/Linux操作系统提供了一个fork()系统调用，它非常特殊。普通的函数调用，调用一次，返回一次，但是fork()调用一次，返回两次，因为操作系统自动把当前进程（称为父进程）复制了一份（称为子进程），然后，分别在父进程和子进程内返回。\n",
    "\n",
    "子进程永远返回0，而父进程返回子进程的ID。这样做的理由是，一个父进程可以fork出很多子进程，所以，父进程要记下每个子进程的ID，而子进程只需要调用getppid()就可以拿到父进程的ID。"
   ]
  },
  {
   "cell_type": "code",
   "execution_count": 18,
   "metadata": {
    "collapsed": false
   },
   "outputs": [
    {
     "name": "stdout",
     "output_type": "stream",
     "text": [
      "Start running process 1356\n",
      "This is the father process 1356\n",
      "Start running process 1356\n",
      "This is the child process 1379 from father process 1356\n"
     ]
    }
   ],
   "source": [
    "import os\n",
    "\n",
    "\n",
    "print('Start running process %s' % os.getpid()) # get current process id\n",
    "\n",
    "# RETURN TWICE\n",
    "pid = os.fork()\n",
    "if pid == 0:\n",
    "    print('This is the child process %s from father process %s' % (os.getpid(), os.getppid())) # get praent process id\n",
    "else:\n",
    "    print('This is the father process %s' % os.getpid())"
   ]
  },
  {
   "cell_type": "markdown",
   "metadata": {
    "collapsed": true
   },
   "source": [
    "有了fork调用，一个进程在接到新任务时就可以复制出一个子进程来处理新任务"
   ]
  },
  {
   "cell_type": "markdown",
   "metadata": {},
   "source": [
    "（挖坑）"
   ]
  },
  {
   "cell_type": "markdown",
   "metadata": {},
   "source": [
    "### 10.正则表达式 Regex (贪婪搜索）"
   ]
  },
  {
   "cell_type": "markdown",
   "metadata": {
    "collapsed": false
   },
   "source": [
    "Cheatsheet: [Regex Cheat Sheet](./source/regex_cheatsheet.pdf)"
   ]
  },
  {
   "cell_type": "raw",
   "metadata": {},
   "source": [
    "一些常用 regex\n",
    "\n",
    "• Default: a character matches itself. E.g. 'a' has no special\n",
    "meaning so it matches the character 'a'.\n",
    "\n",
    "• Repetition: p* 0+\n",
    "              p+ 1+\n",
    "              p? 0 or 1\n",
    "              \n",
    "E.g. [0-9]+ matches any sequence of digits (i.e. matches integers)\n",
    "E.g. [-’a-zA-Z]+ matches any sequence of\n",
    "letters/hyphens/apostrophes (this pattern could be used to match words in a piece of English text, e.g. it’s, John, ...)\n",
    "E.g. [^X]*X matches any characters up to and including the first X\n",
    "              \n",
    "• Alternation: pattern1 | pattern2 denotes the union of\n",
    "pattern1 and | pattern2.\n",
    "E.g. perl|python|ruby matches any of the strings perl,\n",
    "python or ruby\n",
    "\n",
    "• Parentheses are used for grouping e.g. a(,a)* denotes a\n",
    "comma separated list of a’s.\n",
    "\n",
    "• The special meanings of characters can be removed by\n",
    "escaping them with \\ e.g. \\* matches the * character\n",
    "anywhere in the input.\n",
    "\n",
    "• The special pattern . (dot) matches any single character.\n",
    "\n",
    "• Square brackets provide convenient matching of any one of a\n",
    "set of characters.\n",
    "[listOfCharacters] matches any single character from the list\n",
    "of characters. E.g. [aeiou] matches any vowel.\n",
    "\n",
    "• A shorthand is available for ranges of characters [first −last]\n",
    "Examples: [a-e] [a-z] [0-9] [a-zA-Z] [A-Za-z] [a-zA-Z0-9]\n",
    "\n",
    "• The matching can be inverted [^listOfCharacters]\n",
    "E.g. [^a-e] matches any character except one of the first\n",
    "five letters\n",
    "\n",
    "• the start of the line is denoted by ^ (uparrow) E.g. ^[abc]\n",
    "matches either a or b or c at the start of a string.\n",
    "\n",
    "• the end of the line is denoted by $ (dollar) E.g. cat$ matches\n",
    "cat at the end of a string.\n"
   ]
  },
  {
   "cell_type": "markdown",
   "metadata": {},
   "source": [
    "### re"
   ]
  },
  {
   "cell_type": "code",
   "execution_count": 29,
   "metadata": {
    "collapsed": false
   },
   "outputs": [
    {
     "data": {
      "text/plain": [
       "<_sre.SRE_Match object; span=(0, 9), match='123-45678'>"
      ]
     },
     "execution_count": 29,
     "metadata": {},
     "output_type": "execute_result"
    }
   ],
   "source": [
    "import re\n",
    "\n",
    "# 一定要用 r 前缀, \\ literally means \\, 不需要转义\n",
    "# backslash, \\, is taken as meaning \"just a backslash\"\n",
    "# 没有其他不同\n",
    "\n",
    "re.match(r'\\d{3}-\\d{5}', '123-45678')\n",
    "# if retrun object: OK\n",
    "# if return None: NOT MATCHED"
   ]
  },
  {
   "cell_type": "code",
   "execution_count": 31,
   "metadata": {
    "collapsed": false
   },
   "outputs": [
    {
     "data": {
      "text/plain": [
       "['a', 'b', 'c']"
      ]
     },
     "execution_count": 31,
     "metadata": {},
     "output_type": "execute_result"
    }
   ],
   "source": [
    "# split string\n",
    "re.split(r'[\\,\\s+\\;]+', 'a;, b  ,c')"
   ]
  },
  {
   "cell_type": "markdown",
   "metadata": {},
   "source": [
    "分组 (group)"
   ]
  },
  {
   "cell_type": "code",
   "execution_count": 43,
   "metadata": {
    "collapsed": false
   },
   "outputs": [
    {
     "data": {
      "text/plain": [
       "<_sre.SRE_Match object; span=(0, 9), match='123-45678'>"
      ]
     },
     "execution_count": 43,
     "metadata": {},
     "output_type": "execute_result"
    },
    {
     "data": {
      "text/plain": [
       "'123-45678'"
      ]
     },
     "execution_count": 43,
     "metadata": {},
     "output_type": "execute_result"
    },
    {
     "data": {
      "text/plain": [
       "'123'"
      ]
     },
     "execution_count": 43,
     "metadata": {},
     "output_type": "execute_result"
    },
    {
     "data": {
      "text/plain": [
       "'45678'"
      ]
     },
     "execution_count": 43,
     "metadata": {},
     "output_type": "execute_result"
    }
   ],
   "source": [
    "matcher = re.match(r'(\\d{3})-(\\d{5})', '123-45678')\n",
    "matcher\n",
    "matcher.group(0) # whole\n",
    "matcher.group(1) # group 1\n",
    "matcher.group(2) # group 2"
   ]
  },
  {
   "cell_type": "code",
   "execution_count": 60,
   "metadata": {
    "collapsed": false
   },
   "outputs": [
    {
     "data": {
      "text/plain": [
       "<_sre.SRE_Match object; span=(0, 8), match='19:05:30'>"
      ]
     },
     "execution_count": 60,
     "metadata": {},
     "output_type": "execute_result"
    },
    {
     "data": {
      "text/plain": [
       "('19', '05', '30')"
      ]
     },
     "execution_count": 60,
     "metadata": {},
     "output_type": "execute_result"
    }
   ],
   "source": [
    "time = '19:05:30'\n",
    "matcher = re.match(r'(\\d{2}):(\\d{2}):(\\d{2})', time)\n",
    "matcher\n",
    "h, m, s = matcher.groups() # 元组拆包\n",
    "h, m, s"
   ]
  },
  {
   "cell_type": "markdown",
   "metadata": {},
   "source": [
    "预编译该正则表达式, 为了重复使用"
   ]
  },
  {
   "cell_type": "code",
   "execution_count": 62,
   "metadata": {
    "collapsed": false
   },
   "outputs": [
    {
     "data": {
      "text/plain": [
       "<_sre.SRE_Match object; span=(0, 9), match='123-45678'>"
      ]
     },
     "execution_count": 62,
     "metadata": {},
     "output_type": "execute_result"
    },
    {
     "data": {
      "text/plain": [
       "('123', '45678')"
      ]
     },
     "execution_count": 62,
     "metadata": {},
     "output_type": "execute_result"
    }
   ],
   "source": [
    "my_regex = re.compile(r'^(\\d{3})-(\\d{5})$')\n",
    "my_regex.match('123-45678')\n",
    "my_regex.match('123-45678').groups()"
   ]
  },
  {
   "cell_type": "code",
   "execution_count": 74,
   "metadata": {
    "collapsed": false
   },
   "outputs": [
    {
     "name": "stdout",
     "output_type": "stream",
     "text": [
      "ok\n"
     ]
    }
   ],
   "source": [
    "# 验证Email地址的正则表达式\n",
    "# someone@gmail.com\n",
    "# bill.gates@microsoft.com\n",
    "\n",
    "def is_valid_email(email):\n",
    "    email_regex = re.compile(r'^([^\\-]+)@(.+\\.com)$')\n",
    "    return email_regex.match(email)\n",
    "\n",
    "# test\n",
    "assert is_valid_email('someone@gmail.com')\n",
    "assert is_valid_email('bill.gates@microsoft.com')\n",
    "assert not is_valid_email('bob#example.com')\n",
    "assert not is_valid_email('mr-bob@example.com')\n",
    "print('ok')"
   ]
  },
  {
   "cell_type": "code",
   "execution_count": 92,
   "metadata": {
    "collapsed": false
   },
   "outputs": [
    {
     "name": "stdout",
     "output_type": "stream",
     "text": [
      "ok\n"
     ]
    }
   ],
   "source": [
    "# 可以提取出带名字的Email地址\n",
    "# <Tom Paris> tom@voyager.org => Tom Paris\n",
    "# bob@example.com => bob\n",
    "\n",
    "def is_valid_email(email):\n",
    "    email_regex = re.compile(r'^([^\\-]+)@(.+)$')\n",
    "    return email_regex.match(email)\n",
    "\n",
    "def name_of_email(email):\n",
    "    email_regex = re.compile(r'^([^\\-]+)@(.+)$')\n",
    "    if is_valid_email(email):\n",
    "        g = email_regex.match(email)\n",
    "        username, mailbox = g.groups()\n",
    "        if '<' in username and '>' in username:\n",
    "            username_regex = re.compile(r'^<([\\s\\w]+)>.*')\n",
    "            assert username_regex.match('<Kite>a')\n",
    "            name = username_regex.match(username).group(1)\n",
    "        else:\n",
    "            name = username\n",
    "        return name\n",
    "    else:\n",
    "        print(email)\n",
    "        print('Not a valid one.')\n",
    "\n",
    "\n",
    "# test\n",
    "assert name_of_email('<Tom Paris> tom@voyager.org') == 'Tom Paris'\n",
    "assert name_of_email('tom@voyager.org') == 'tom'\n",
    "print('ok')"
   ]
  },
  {
   "cell_type": "code",
   "execution_count": 95,
   "metadata": {
    "collapsed": false
   },
   "outputs": [
    {
     "name": "stdout",
     "output_type": "stream",
     "text": [
      "('<', 'Tom Paris', '>', ' tom', 'voyager.org')\n",
      "('', 'tom', '', '', 'voyager.org')\n",
      "ok\n"
     ]
    }
   ],
   "source": [
    "# 一个更好的实现 卧槽牛逼啊！\n",
    "# 无论有没有 < >, name 都在 group(2) 的位置\n",
    "# 关键点在于 [\\w\\s]*, 如果是空的 * 也会返回一个空的 ‘’\n",
    "\n",
    "def name_of_email(addr):\n",
    "    r=re.compile(r'^(<?)([\\w\\s]*)(>?)([\\w\\s]*)@([\\w.]*)$')\n",
    "    if not r.match(addr):\n",
    "        return None\n",
    "    else:\n",
    "        m=r.match(addr)\n",
    "        print(m.groups())\n",
    "        return m.group(2)\n",
    "\n",
    "# test\n",
    "assert name_of_email('<Tom Paris> tom@voyager.org') == 'Tom Paris'\n",
    "assert name_of_email('tom@voyager.org') == 'tom'\n",
    "print('ok')"
   ]
  },
  {
   "cell_type": "markdown",
   "metadata": {},
   "source": [
    "### 11. Built-in functions (常用)"
   ]
  },
  {
   "cell_type": "code",
   "execution_count": 116,
   "metadata": {
    "collapsed": false
   },
   "outputs": [
    {
     "name": "stdout",
     "output_type": "stream",
     "text": [
      "2018-01-23 15:39:50.931737\n",
      "2018-12-30 12:30:22\n"
     ]
    },
    {
     "data": {
      "text/plain": [
       "1516693190.931948"
      ]
     },
     "execution_count": 116,
     "metadata": {},
     "output_type": "execute_result"
    },
    {
     "name": "stdout",
     "output_type": "stream",
     "text": [
      "2018-01-23 15:26:34.293447\n",
      "1987-09-01 15:00:00\n",
      "15:39\n"
     ]
    }
   ],
   "source": [
    "# datetime\n",
    "\n",
    "from datetime import datetime\n",
    "now = datetime.now() # 本地时间\n",
    "\n",
    "print(now)\n",
    "\n",
    "# spcific datetime\n",
    "my_time = datetime(2018,12,30,12,30,22)\n",
    "print(my_time)\n",
    "\n",
    "# datetime to timestep\n",
    "# 在计算机中，时间实际上是用数字表示的。我们把1970年1月1日 00:00:00 UTC+00:00时区的时刻称为epoch time\n",
    "# 记为0（1970年以前的时间timestamp为负数），当前时间就是相对于epoch time的秒数，称为timestamp\n",
    "# timestamp = 0 等于 1970-1-1 00:00:00 UTC+0:00\n",
    "now = datetime.now()\n",
    "now.timestamp()\n",
    "\n",
    "# timestep to datetime\n",
    "# fromtimestamp()\n",
    "t_step = 1516692394.293447\n",
    "my_time = datetime.fromtimestamp(t_step)\n",
    "print(my_time)\n",
    "\n",
    "# user's input string to datetime\n",
    "# strptime()\n",
    "input_time = '1987-9-1 15:00'\n",
    "dt = datetime.strptime(input_time, '%Y-%m-%d %H:%M') # to datetime\n",
    "dt2 = datetime.now().strftime('%H:%M') # to string\n",
    "print(dt)\n",
    "print(dt2)\n",
    "\n",
    "# datetime加减\n",
    "# >>> from datetime import datetime, timedelta\n",
    "# >>> now = datetime.now()\n",
    "# >>> now\n",
    "# datetime.datetime(2015, 5, 18, 16, 57, 3, 540997)\n",
    "# >>> now + timedelta(hours=10)\n",
    "# datetime.datetime(2015, 5, 19, 2, 57, 3, 540997)\n",
    "# >>> now - timedelta(days=1)\n",
    "# datetime.datetime(2015, 5, 17, 16, 57, 3, 540997)\n",
    "# >>> now + timedelta(days=2, hours=12)\n",
    "# datetime.datetime(2015, 5, 21, 4, 57, 3, 540997)\n",
    "\n",
    "# 时区转换：不写了"
   ]
  },
  {
   "cell_type": "code",
   "execution_count": 127,
   "metadata": {
    "collapsed": false
   },
   "outputs": [
    {
     "data": {
      "text/plain": [
       "(1, 2)"
      ]
     },
     "execution_count": 127,
     "metadata": {},
     "output_type": "execute_result"
    }
   ],
   "source": [
    "# collections\n",
    "\n",
    "import collections\n",
    "# 1. namedtuple\n",
    "# 用来快速定义 只有属性没有方法的class\n",
    "coordinate = collections.namedtuple('coordinate', ['x', 'y'])\n",
    "p1 = coordinate(1, 2)\n",
    "p1.x, p1.y"
   ]
  },
  {
   "cell_type": "code",
   "execution_count": 128,
   "metadata": {
    "collapsed": false
   },
   "outputs": [
    {
     "data": {
      "text/plain": [
       "'a'"
      ]
     },
     "execution_count": 128,
     "metadata": {},
     "output_type": "execute_result"
    },
    {
     "data": {
      "text/plain": [
       "'b'"
      ]
     },
     "execution_count": 128,
     "metadata": {},
     "output_type": "execute_result"
    },
    {
     "data": {
      "text/plain": [
       "deque(['x', 'x', 'x'])"
      ]
     },
     "execution_count": 128,
     "metadata": {},
     "output_type": "execute_result"
    }
   ],
   "source": [
    "# 2. deque\n",
    "# list 优势是索引搜索快，劣势是插入删除速度太慢。因为它是线性储存，数据越多，插入删除越慢。\n",
    "# deque 可以做到高效插入删除\n",
    "dq = collections.deque(['x'] * 3)\n",
    "dq.append('a')\n",
    "dq.appendleft('b')\n",
    "dq.pop()\n",
    "dq.popleft()\n",
    "dq"
   ]
  },
  {
   "cell_type": "code",
   "execution_count": 129,
   "metadata": {
    "collapsed": false
   },
   "outputs": [
    {
     "data": {
      "text/plain": [
       "'N/A'"
      ]
     },
     "execution_count": 129,
     "metadata": {},
     "output_type": "execute_result"
    }
   ],
   "source": [
    "# 3. defaultdict\n",
    "# 使用dict时，如果引用的Key不存在，就会抛出KeyError。如果希望key不存在时，返回一个默认值，\n",
    "# 就可以用defaultdict\n",
    "dd = collections.defaultdict(lambda: 'N/A')\n",
    "dd['key1'] = 1\n",
    "dd['key2']"
   ]
  },
  {
   "cell_type": "code",
   "execution_count": 134,
   "metadata": {
    "collapsed": false
   },
   "outputs": [
    {
     "data": {
      "text/plain": [
       "OrderedDict([('b', 1), ('c', 2)])"
      ]
     },
     "execution_count": 134,
     "metadata": {},
     "output_type": "execute_result"
    },
    {
     "data": {
      "text/plain": [
       "OrderedDict([('b', 1), ('c', 2), ('a', 3)])"
      ]
     },
     "execution_count": 134,
     "metadata": {},
     "output_type": "execute_result"
    }
   ],
   "source": [
    "# 4. OrderedDict\n",
    "# Key 是有序的, Key 会按照 插入的顺序排列\n",
    "od = collections.OrderedDict([('b', 1), ('c', 2)])\n",
    "od\n",
    "od['a'] = 3\n",
    "od"
   ]
  },
  {
   "cell_type": "code",
   "execution_count": 136,
   "metadata": {
    "collapsed": false
   },
   "outputs": [
    {
     "data": {
      "text/plain": [
       "Counter({'a': 2,\n",
       "         'c': 1,\n",
       "         'e': 2,\n",
       "         'h': 1,\n",
       "         'i': 2,\n",
       "         'l': 1,\n",
       "         'm': 3,\n",
       "         'n': 1,\n",
       "         's': 1,\n",
       "         'y': 1})"
      ]
     },
     "execution_count": 136,
     "metadata": {},
     "output_type": "execute_result"
    }
   ],
   "source": [
    "# 5. Counter \n",
    "# 实际上是 dict 的 一个子类\n",
    "# E.g.面记录 char 出现次数\n",
    "c = collections.Counter()\n",
    "for char in \"mynameismichael\":\n",
    "    c[char] = c[char] + 1\n",
    "c"
   ]
  },
  {
   "cell_type": "markdown",
   "metadata": {},
   "source": [
    "### 12.其他"
   ]
  },
  {
   "cell_type": "markdown",
   "metadata": {},
   "source": [
    "(挖坑)"
   ]
  }
 ],
 "metadata": {
  "anaconda-cloud": {},
  "kernelspec": {
   "display_name": "Python [Root]",
   "language": "python",
   "name": "Python [Root]"
  },
  "language_info": {
   "codemirror_mode": {
    "name": "ipython",
    "version": 3
   },
   "file_extension": ".py",
   "mimetype": "text/x-python",
   "name": "python",
   "nbconvert_exporter": "python",
   "pygments_lexer": "ipython3",
   "version": "3.5.2"
  }
 },
 "nbformat": 4,
 "nbformat_minor": 0
}
