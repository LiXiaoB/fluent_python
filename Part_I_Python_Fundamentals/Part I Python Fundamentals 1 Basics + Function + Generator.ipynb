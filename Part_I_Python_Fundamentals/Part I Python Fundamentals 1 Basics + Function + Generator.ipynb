{
 "cells": [
  {
   "cell_type": "markdown",
   "metadata": {},
   "source": [
    "# Part I Python Fundamentals 1"
   ]
  },
  {
   "cell_type": "markdown",
   "metadata": {},
   "source": [
    "This is my review note of Python for the purpose of self-study. The note mixes up with English & Chinese.\n",
    "- Part I follows the *[Liao's Python tutorial](https://www.liaoxuefeng.com/wiki/0014316089557264a6b348958f449949df42a6d3a2e542c000) (in Chinese)*"
   ]
  },
  {
   "cell_type": "code",
   "execution_count": 14,
   "metadata": {
    "collapsed": true
   },
   "outputs": [],
   "source": [
    "# RUN IT\n",
    "# Display multiple interactive objects in one shell\n",
    "# No Need for print function\n",
    "from IPython.core.interactiveshell import InteractiveShell\n",
    "InteractiveShell.ast_node_interactivity = \"all\""
   ]
  },
  {
   "cell_type": "markdown",
   "metadata": {
    "collapsed": true
   },
   "source": [
    "### 1. Python Basics (Encoding/formating/list/tuple/if/loop/dict/set)"
   ]
  },
  {
   "cell_type": "raw",
   "metadata": {},
   "source": [
    "程序一般会以这两行开头，第一行告诉 linux/osx 系统用 python3 运行(windows will ignore)，第二行告诉 python 按照 utf-8 读源代码，否则读取中文时候会出现乱码\n",
    "另外要确定 文本编辑器 正在使用 utf-8 without BOM 编码.\n",
    "\n",
    "#!/usr/bin/python3\n",
    "# -*- coding: utf-8 -*-"
   ]
  },
  {
   "cell_type": "markdown",
   "metadata": {},
   "source": [
    "编码 Encoding"
   ]
  },
  {
   "cell_type": "markdown",
   "metadata": {},
   "source": [
    "- **Python's str use Unicode**\n",
    "- If you want to transform between `str` and `byte`, please use UTF-8\n",
    "- 编码：\n",
    "\t- 最早只有127个字符被编码到计算机里，也就是大小写英文字母、数字和一些符号，这个编码表被称为ASCII编码\n",
    "\t- 其他国家语言加入进去，中文GB2312，日文Shift_JIS等等。编码不同，会产生乱码。\n",
    "\t- 为了世界和平，产生了 Unicode 包含所有语言\n",
    "\t- 问题在于 Unicode 编码通常为 2 个字节 而 ASCII 只需要 1个字节\n",
    "\t- 本着节约储存空间的原则，出现了把Unicode编码转化为“可变长编码”的UTF-8 编码， 可以把 Unicode 转化为 1-6 个字节 （英文 1 个， 中文 3 个， 稀有的特殊符号6个 等）。\n",
    "\t- 在计算机内存中，统一使用 Unicode 编码， 当要保存到硬盘上的时候再用 Unicode 转换成 UTF-8 节省空间。\n",
    "\t- 例如在记事本中打字的时候，编码为 Unicode， 保存为 abc.txt 的时候， 编码为 UTF-8。 读取文件时候 会把编码从 UTF-8 转换为 Unicode 显示在笔记本中。\n",
    "\t- 例如浏览网页的时候，服务器里储存的为 Unicode， 会把其转化为 UTF-8 显示到浏览器上。"
   ]
  },
  {
   "cell_type": "raw",
   "metadata": {},
   "source": [
    "ASCII (127 chars) 1 byte\n",
    "Unicode (all chars) 2 bytes (on memory)\n",
    "UTF - 8 (all chars) 1-6 bytes (on disk)"
   ]
  },
  {
   "cell_type": "code",
   "execution_count": 80,
   "metadata": {
    "collapsed": false
   },
   "outputs": [
    {
     "data": {
      "text/plain": [
       "'中文'"
      ]
     },
     "execution_count": 80,
     "metadata": {},
     "output_type": "execute_result"
    },
    {
     "data": {
      "text/plain": [
       "'我的 python 666'"
      ]
     },
     "execution_count": 80,
     "metadata": {},
     "output_type": "execute_result"
    }
   ],
   "source": [
    "# 如果知道字符的整数编码，可以用16进制这么写 str\n",
    "# Kind of stupid\n",
    "'\\u4e2d\\u6587'\n",
    "'\\u6211\\u7684\\u0020\\u0070\\u0079\\u0074\\u0068\\u006f\\u006e\\u0020\\u0036\\u0036\\u0036'"
   ]
  },
  {
   "cell_type": "code",
   "execution_count": 9,
   "metadata": {
    "collapsed": false
   },
   "outputs": [
    {
     "data": {
      "text/plain": [
       "3"
      ]
     },
     "execution_count": 9,
     "metadata": {},
     "output_type": "execute_result"
    },
    {
     "data": {
      "text/plain": [
       "2"
      ]
     },
     "execution_count": 9,
     "metadata": {},
     "output_type": "execute_result"
    }
   ],
   "source": [
    "len('中'.encode('utf-8')) # 中文 3 个字节\n",
    "len('中'.encode('GB2312')) # 中文 2 个字节"
   ]
  },
  {
   "cell_type": "markdown",
   "metadata": {},
   "source": [
    "若在网络传输或保存磁盘，需要把 str 中的 char (unicode) 变为字节单位 bytes"
   ]
  },
  {
   "cell_type": "code",
   "execution_count": 81,
   "metadata": {
    "collapsed": false
   },
   "outputs": [
    {
     "data": {
      "text/plain": [
       "'xyz'"
      ]
     },
     "execution_count": 81,
     "metadata": {},
     "output_type": "execute_result"
    },
    {
     "data": {
      "text/plain": [
       "b'xyz'"
      ]
     },
     "execution_count": 81,
     "metadata": {},
     "output_type": "execute_result"
    }
   ],
   "source": [
    "'xyz'\n",
    "b'xyz'"
   ]
  },
  {
   "cell_type": "markdown",
   "metadata": {},
   "source": [
    "In bytes, it will show \n",
    "### '\\x##'\n",
    "if the char is not in ascii"
   ]
  },
  {
   "cell_type": "code",
   "execution_count": 82,
   "metadata": {
    "collapsed": false
   },
   "outputs": [
    {
     "name": "stdout",
     "output_type": "stream",
     "text": [
      "b'xyz'\n",
      "b'xyz'\n",
      "b'\\xb9\\xfe\\xa4\\xce\\xb9\\xfe'\n",
      "b'\\x99\\xfb\\x99\\xfb'\n"
     ]
    }
   ],
   "source": [
    "# encode\n",
    "print('xyz'.encode('ascii'))\n",
    "print('xyz'.encode('utf-8'))\n",
    "print('哈の哈'.encode('GB2312')) # why it can encode Japanese??\n",
    "print('哈哈'.encode('Shift_JIS')) # why the fuck it can encode Chinese??"
   ]
  },
  {
   "cell_type": "code",
   "execution_count": 83,
   "metadata": {
    "collapsed": false
   },
   "outputs": [
    {
     "ename": "UnicodeEncodeError",
     "evalue": "'ascii' codec can't encode characters in position 0-1: ordinal not in range(128)",
     "output_type": "error",
     "traceback": [
      "\u001b[0;31m---------------------------------------------------------------------------\u001b[0m",
      "\u001b[0;31mUnicodeEncodeError\u001b[0m                        Traceback (most recent call last)",
      "\u001b[0;32m<ipython-input-83-a071f34ea84b>\u001b[0m in \u001b[0;36m<module>\u001b[0;34m()\u001b[0m\n\u001b[1;32m      1\u001b[0m \u001b[0;31m# Chinese cannot encoded by ascii\u001b[0m\u001b[0;34m\u001b[0m\u001b[0;34m\u001b[0m\u001b[0m\n\u001b[0;32m----> 2\u001b[0;31m \u001b[0;34m'哈哈'\u001b[0m\u001b[0;34m.\u001b[0m\u001b[0mencode\u001b[0m\u001b[0;34m(\u001b[0m\u001b[0;34m'ascii'\u001b[0m\u001b[0;34m)\u001b[0m\u001b[0;34m\u001b[0m\u001b[0m\n\u001b[0m",
      "\u001b[0;31mUnicodeEncodeError\u001b[0m: 'ascii' codec can't encode characters in position 0-1: ordinal not in range(128)"
     ]
    }
   ],
   "source": [
    "# Chinese cannot encoded by ascii\n",
    "'哈哈'.encode('ascii')"
   ]
  },
  {
   "cell_type": "markdown",
   "metadata": {},
   "source": [
    "Reversely, if we want to get the str from the disk (bytes), we need to decode by different encoders (ascii/utf-8...)."
   ]
  },
  {
   "cell_type": "code",
   "execution_count": 115,
   "metadata": {
    "collapsed": false
   },
   "outputs": [
    {
     "data": {
      "text/plain": [
       "'xyz'"
      ]
     },
     "execution_count": 115,
     "metadata": {},
     "output_type": "execute_result"
    },
    {
     "data": {
      "text/plain": [
       "'哈の哈'"
      ]
     },
     "execution_count": 115,
     "metadata": {},
     "output_type": "execute_result"
    }
   ],
   "source": [
    "b'xyz'.decode('ascii')\n",
    "b'\\xb9\\xfe\\xa4\\xce\\xb9\\xfe'.decode('GB2312')"
   ]
  },
  {
   "cell_type": "code",
   "execution_count": 116,
   "metadata": {
    "collapsed": false
   },
   "outputs": [
    {
     "ename": "UnicodeDecodeError",
     "evalue": "'utf-8' codec can't decode byte 0xb9 in position 0: invalid start byte",
     "output_type": "error",
     "traceback": [
      "\u001b[0;31m---------------------------------------------------------------------------\u001b[0m",
      "\u001b[0;31mUnicodeDecodeError\u001b[0m                        Traceback (most recent call last)",
      "\u001b[0;32m<ipython-input-116-2fd7cf407b0d>\u001b[0m in \u001b[0;36m<module>\u001b[0;34m()\u001b[0m\n\u001b[1;32m      1\u001b[0m \u001b[0;31m# similarly, utf-8 cannot decode GB2312\u001b[0m\u001b[0;34m\u001b[0m\u001b[0;34m\u001b[0m\u001b[0m\n\u001b[0;32m----> 2\u001b[0;31m \u001b[0;34mb'\\xb9\\xfe\\xa4\\xce\\xb9\\xfe'\u001b[0m\u001b[0;34m.\u001b[0m\u001b[0mdecode\u001b[0m\u001b[0;34m(\u001b[0m\u001b[0;34m'utf-8'\u001b[0m\u001b[0;34m)\u001b[0m\u001b[0;34m\u001b[0m\u001b[0m\n\u001b[0m",
      "\u001b[0;31mUnicodeDecodeError\u001b[0m: 'utf-8' codec can't decode byte 0xb9 in position 0: invalid start byte"
     ]
    }
   ],
   "source": [
    "# similarly, utf-8 cannot decode GB2312\n",
    "b'\\xb9\\xfe\\xa4\\xce\\xb9\\xfe'.decode('utf-8')"
   ]
  },
  {
   "cell_type": "code",
   "execution_count": 117,
   "metadata": {
    "collapsed": false
   },
   "outputs": [
    {
     "data": {
      "text/plain": [
       "'ι'"
      ]
     },
     "execution_count": 117,
     "metadata": {},
     "output_type": "execute_result"
    },
    {
     "data": {
      "text/plain": [
       "b'\\xce\\xb9'"
      ]
     },
     "execution_count": 117,
     "metadata": {},
     "output_type": "execute_result"
    }
   ],
   "source": [
    "# you could choose to ignore the errors, in order to decode the understood part\n",
    "b'\\xb9\\xfe\\xa4\\xce\\xb9\\xfe'.decode('utf-8', errors='ignore')\n",
    "'ι'.encode('utf-8') # understood part, not exactly what we want"
   ]
  },
  {
   "cell_type": "code",
   "execution_count": 120,
   "metadata": {
    "collapsed": false
   },
   "outputs": [
    {
     "data": {
      "text/plain": [
       "2"
      ]
     },
     "execution_count": 120,
     "metadata": {},
     "output_type": "execute_result"
    },
    {
     "data": {
      "text/plain": [
       "6"
      ]
     },
     "execution_count": 120,
     "metadata": {},
     "output_type": "execute_result"
    },
    {
     "data": {
      "text/plain": [
       "b'\\xe5\\x93\\x88\\xe5\\x93\\x88'"
      ]
     },
     "execution_count": 120,
     "metadata": {},
     "output_type": "execute_result"
    }
   ],
   "source": [
    "# len() returns the number of char in a str\n",
    "len('哈哈')\n",
    "len('哈哈'.encode('utf-8'))\n",
    "'哈哈'.encode('utf-8') # disk space 2 chinese char = 6 bytes"
   ]
  },
  {
   "cell_type": "markdown",
   "metadata": {},
   "source": [
    "### 为了避免乱码问题，应该始终坚持用 utf-8 进行 str / byte 转化"
   ]
  },
  {
   "cell_type": "markdown",
   "metadata": {},
   "source": [
    "格式化 Formatting\n",
    "两种方法"
   ]
  },
  {
   "cell_type": "raw",
   "metadata": {},
   "source": [
    "1. % (%d 和 %f 可以指定是否 补0以及位数)\n",
    "    - %d integer\n",
    "    - %f float\n",
    "    - %s str\n",
    "    - %x 十六进制整数\n",
    "\n",
    "2. format()"
   ]
  },
  {
   "cell_type": "code",
   "execution_count": 10,
   "metadata": {
    "collapsed": false
   },
   "outputs": [
    {
     "data": {
      "text/plain": [
       "' 3-01'"
      ]
     },
     "execution_count": 10,
     "metadata": {},
     "output_type": "execute_result"
    },
    {
     "data": {
      "text/plain": [
       "'1.24'"
      ]
     },
     "execution_count": 10,
     "metadata": {},
     "output_type": "execute_result"
    }
   ],
   "source": [
    "# %\n",
    "'%2d-%02d' % (3,1) # 保留两位数字的空间\n",
    "'%.2f' % (1.236) # 保留两位小数的空间"
   ]
  },
  {
   "cell_type": "markdown",
   "metadata": {},
   "source": [
    "If you don't know which one to use, then just use %s. (convert anything to str)"
   ]
  },
  {
   "cell_type": "code",
   "execution_count": 85,
   "metadata": {
    "collapsed": false
   },
   "outputs": [
    {
     "data": {
      "text/plain": [
       "\"my name is Michael, I'm 24\""
      ]
     },
     "execution_count": 85,
     "metadata": {},
     "output_type": "execute_result"
    }
   ],
   "source": [
    "'my name is %s, I\\'m %s' % ('Michael', 24)"
   ]
  },
  {
   "cell_type": "code",
   "execution_count": 86,
   "metadata": {
    "collapsed": false
   },
   "outputs": [
    {
     "data": {
      "text/plain": [
       "\"Michael's grade increase from 80 to 100\""
      ]
     },
     "execution_count": 86,
     "metadata": {},
     "output_type": "execute_result"
    }
   ],
   "source": [
    "# format()\n",
    "'{}\\'s grade increase from {} to {}'.format('Michael', 80, 100)"
   ]
  },
  {
   "cell_type": "markdown",
   "metadata": {},
   "source": [
    "List/Tuple\n",
    "- List 是一个 可变的有序列表\n",
    "- Tuple 是个 不可变的有序列表\n",
    "- 能用 tuple 就不要用 list, tuple 更安全"
   ]
  },
  {
   "cell_type": "code",
   "execution_count": 122,
   "metadata": {
    "collapsed": false
   },
   "outputs": [
    {
     "data": {
      "text/plain": [
       "1"
      ]
     },
     "execution_count": 122,
     "metadata": {},
     "output_type": "execute_result"
    },
    {
     "data": {
      "text/plain": [
       "(1,)"
      ]
     },
     "execution_count": 122,
     "metadata": {},
     "output_type": "execute_result"
    }
   ],
   "source": [
    "# when define a tuple with one element, there is a trick\n",
    "t1 = (1) # wrong\n",
    "t2 = (1,) # right\n",
    "t1\n",
    "t2"
   ]
  },
  {
   "cell_type": "markdown",
   "metadata": {},
   "source": [
    "If statement"
   ]
  },
  {
   "cell_type": "code",
   "execution_count": 123,
   "metadata": {
    "collapsed": false
   },
   "outputs": [
    {
     "name": "stdout",
     "output_type": "stream",
     "text": [
      "This is totally True\n"
     ]
    }
   ],
   "source": [
    "# simple and pythonic way\n",
    "\n",
    "x = -1 # not zero int, True\n",
    "y = 'a' # not empty str, True\n",
    "z = [1, 2, 3] # note empty list, True\n",
    "\n",
    "if x and y and z:\n",
    "    print('This is totally True')"
   ]
  },
  {
   "cell_type": "markdown",
   "metadata": {},
   "source": [
    "Loop\n",
    "\n",
    "Actually nothing worth take notes here"
   ]
  },
  {
   "cell_type": "markdown",
   "metadata": {},
   "source": [
    "Dict/ Set\n",
    "- Compared to List, **Dict's search speed is very fast**, because it use the key to track the value like a dictionary\n",
    "- Compared to List, **Dict will use lots of disk space (space/speed trade-off)**\n",
    "- Key must be 不可变对象 (str/int...) but not 可变对象(list)\n",
    "\n",
    "- Set means methamatical set\n",
    "- Set only store keys but not values\n",
    "- add() / remove() elements\n",
    "- & | set operators"
   ]
  },
  {
   "cell_type": "code",
   "execution_count": 106,
   "metadata": {
    "collapsed": false
   },
   "outputs": [
    {
     "data": {
      "text/plain": [
       "{'a': 95, 'b': 91, 'c': 99}"
      ]
     },
     "execution_count": 106,
     "metadata": {},
     "output_type": "execute_result"
    }
   ],
   "source": [
    "# one way to create dict\n",
    "student = ['a', 'b', 'c']\n",
    "grades = [95, 91, 99]\n",
    "record = dict(zip(student, grades))\n",
    "record"
   ]
  },
  {
   "cell_type": "code",
   "execution_count": 107,
   "metadata": {
    "collapsed": false
   },
   "outputs": [
    {
     "data": {
      "text/plain": [
       "95"
      ]
     },
     "execution_count": 107,
     "metadata": {},
     "output_type": "execute_result"
    },
    {
     "data": {
      "text/plain": [
       "{'b': 91, 'c': 99}"
      ]
     },
     "execution_count": 107,
     "metadata": {},
     "output_type": "execute_result"
    }
   ],
   "source": [
    "# delete a key and its value\n",
    "record.pop('a')\n",
    "record"
   ]
  },
  {
   "cell_type": "code",
   "execution_count": 11,
   "metadata": {
    "collapsed": false
   },
   "outputs": [
    {
     "data": {
      "text/plain": [
       "{1, 3}"
      ]
     },
     "execution_count": 11,
     "metadata": {},
     "output_type": "execute_result"
    },
    {
     "data": {
      "text/plain": [
       "{1, 2, 3, 4}"
      ]
     },
     "execution_count": 11,
     "metadata": {},
     "output_type": "execute_result"
    }
   ],
   "source": [
    "s1 = set([1, 2, 3])\n",
    "s2 = set([1, 3, 4])\n",
    "s1 & s2 # intersect\n",
    "s1 | s2 # union"
   ]
  },
  {
   "cell_type": "markdown",
   "metadata": {},
   "source": [
    "### 2. Function\n",
    "- help(function)\n",
    "- since functions are objects (**everything in python is an object**), we give a nickname to a function\n",
    "- **VERY IMPORTANT FOR DEBUG: if there is no return in a function, it automatically return None**"
   ]
  },
  {
   "cell_type": "code",
   "execution_count": 38,
   "metadata": {
    "collapsed": false
   },
   "outputs": [
    {
     "data": {
      "text/plain": [
       "3"
      ]
     },
     "execution_count": 38,
     "metadata": {},
     "output_type": "execute_result"
    }
   ],
   "source": [
    "# nickname a function\n",
    "michael = abs\n",
    "michael(-3)"
   ]
  },
  {
   "cell_type": "code",
   "execution_count": 11,
   "metadata": {
    "collapsed": false
   },
   "outputs": [
    {
     "ename": "TypeError",
     "evalue": "x must be int or float",
     "output_type": "error",
     "traceback": [
      "\u001b[0;31m---------------------------------------------------------------------------\u001b[0m",
      "\u001b[0;31mTypeError\u001b[0m                                 Traceback (most recent call last)",
      "\u001b[0;32m<ipython-input-11-9ddd2c0c01c6>\u001b[0m in \u001b[0;36m<module>\u001b[0;34m()\u001b[0m\n\u001b[1;32m      5\u001b[0m     \u001b[0;32mpass\u001b[0m\u001b[0;34m\u001b[0m\u001b[0m\n\u001b[1;32m      6\u001b[0m \u001b[0;34m\u001b[0m\u001b[0m\n\u001b[0;32m----> 7\u001b[0;31m \u001b[0mfoo\u001b[0m\u001b[0;34m(\u001b[0m\u001b[0;34m'a'\u001b[0m\u001b[0;34m)\u001b[0m\u001b[0;34m\u001b[0m\u001b[0m\n\u001b[0m",
      "\u001b[0;32m<ipython-input-11-9ddd2c0c01c6>\u001b[0m in \u001b[0;36mfoo\u001b[0;34m(x)\u001b[0m\n\u001b[1;32m      2\u001b[0m \u001b[0;32mdef\u001b[0m \u001b[0mfoo\u001b[0m\u001b[0;34m(\u001b[0m\u001b[0mx\u001b[0m\u001b[0;34m)\u001b[0m\u001b[0;34m:\u001b[0m\u001b[0;34m\u001b[0m\u001b[0m\n\u001b[1;32m      3\u001b[0m     \u001b[0;32mif\u001b[0m \u001b[0;32mnot\u001b[0m \u001b[0misinstance\u001b[0m\u001b[0;34m(\u001b[0m\u001b[0mx\u001b[0m\u001b[0;34m,\u001b[0m \u001b[0;34m(\u001b[0m\u001b[0mint\u001b[0m\u001b[0;34m,\u001b[0m \u001b[0mfloat\u001b[0m\u001b[0;34m)\u001b[0m\u001b[0;34m)\u001b[0m\u001b[0;34m:\u001b[0m\u001b[0;34m\u001b[0m\u001b[0m\n\u001b[0;32m----> 4\u001b[0;31m         \u001b[0;32mraise\u001b[0m \u001b[0mTypeError\u001b[0m\u001b[0;34m(\u001b[0m\u001b[0;34m'x must be int or float'\u001b[0m\u001b[0;34m)\u001b[0m\u001b[0;34m\u001b[0m\u001b[0m\n\u001b[0m\u001b[1;32m      5\u001b[0m     \u001b[0;32mpass\u001b[0m\u001b[0;34m\u001b[0m\u001b[0m\n\u001b[1;32m      6\u001b[0m \u001b[0;34m\u001b[0m\u001b[0m\n",
      "\u001b[0;31mTypeError\u001b[0m: x must be int or float"
     ]
    }
   ],
   "source": [
    "# check type of parameters first when writing a function\n",
    "def foo(x):\n",
    "    if not isinstance(x, (int, float)):\n",
    "        raise TypeError('x must be int or float')\n",
    "    pass\n",
    "\n",
    "foo('a')"
   ]
  },
  {
   "cell_type": "markdown",
   "metadata": {},
   "source": [
    "函数在返回多值时实际上是返回了一个 **可被拆包的 tuple**, "
   ]
  },
  {
   "cell_type": "code",
   "execution_count": 16,
   "metadata": {
    "collapsed": false
   },
   "outputs": [
    {
     "data": {
      "text/plain": [
       "tuple"
      ]
     },
     "execution_count": 16,
     "metadata": {},
     "output_type": "execute_result"
    },
    {
     "data": {
      "text/plain": [
       "(7, 5.0, True)"
      ]
     },
     "execution_count": 16,
     "metadata": {},
     "output_type": "execute_result"
    }
   ],
   "source": [
    "from math import hypot\n",
    "def triangle_property(x, y):\n",
    "    _sum = x + y\n",
    "    _hypot = hypot(x, y)\n",
    "    if _hypot <= _sum:\n",
    "        _property = True\n",
    "    else:\n",
    "        _property = False\n",
    "    return _sum, _hypot, _property\n",
    "\n",
    "type(triangle_property(3, 4))\n",
    "s, h, p = triangle_property(3, 4)\n",
    "s, h, p"
   ]
  },
  {
   "cell_type": "markdown",
   "metadata": {},
   "source": [
    "### \\*args"
   ]
  },
  {
   "cell_type": "code",
   "execution_count": 20,
   "metadata": {
    "collapsed": false
   },
   "outputs": [
    {
     "name": "stdout",
     "output_type": "stream",
     "text": [
      "<class 'tuple'>\n",
      "(1, 2, 3)\n"
     ]
    },
    {
     "data": {
      "text/plain": [
       "6"
      ]
     },
     "execution_count": 20,
     "metadata": {},
     "output_type": "execute_result"
    }
   ],
   "source": [
    "def sum_elements(*args):\n",
    "    print(type(args)) # 已经拆包成功\n",
    "    print(args) # 已经拆包成功\n",
    "    return sum(x for x in args)\n",
    "\n",
    "sum_elements(1, 2, 3)"
   ]
  },
  {
   "cell_type": "code",
   "execution_count": 22,
   "metadata": {
    "collapsed": false
   },
   "outputs": [
    {
     "name": "stdout",
     "output_type": "stream",
     "text": [
      "<class 'tuple'>\n",
      "(1, 2, 3)\n"
     ]
    },
    {
     "data": {
      "text/plain": [
       "6"
      ]
     },
     "execution_count": 22,
     "metadata": {},
     "output_type": "execute_result"
    }
   ],
   "source": [
    "# what if I want to input a list?\n",
    "nbs = [1, 2, 3]\n",
    "sum_elements(*nbs) # 进行主动拆包??"
   ]
  },
  {
   "cell_type": "markdown",
   "metadata": {},
   "source": [
    "以上可以看出 * 的本质 就是把 元组拆包"
   ]
  },
  {
   "cell_type": "markdown",
   "metadata": {},
   "source": [
    "而 ** 的作用是把 dict拆包"
   ]
  },
  {
   "cell_type": "markdown",
   "metadata": {},
   "source": [
    "### \\**kwargs"
   ]
  },
  {
   "cell_type": "code",
   "execution_count": 19,
   "metadata": {
    "collapsed": false
   },
   "outputs": [
    {
     "name": "stdout",
     "output_type": "stream",
     "text": [
      "name: Michael age: 13 others: {'smart': 'extremely', 'handsome': 'very', 'genius': True}\n"
     ]
    }
   ],
   "source": [
    "def information(name, age, **kwargs):\n",
    "    print(\"name:\", name, \"age:\", age, \"others:\", kwargs)\n",
    "    \n",
    "information('Michael', 13, handsome='very', smart='extremely', genius=True)"
   ]
  },
  {
   "cell_type": "markdown",
   "metadata": {},
   "source": [
    "限制关键字参数"
   ]
  },
  {
   "cell_type": "code",
   "execution_count": 23,
   "metadata": {
    "collapsed": false
   },
   "outputs": [
    {
     "name": "stdout",
     "output_type": "stream",
     "text": [
      "Michael 13 very actuary\n"
     ]
    }
   ],
   "source": [
    "# name, age: positional arguments\n",
    "# handsome, job: keyword-only arguments (只接受这两个 kwargs, 被限制)\n",
    "def information(name, age, *, handsome='very', job):\n",
    "    print(name, age, handsome, job)\n",
    "\n",
    "information('Michael', 13, job='actuary')"
   ]
  },
  {
   "cell_type": "markdown",
   "metadata": {},
   "source": [
    "**参数定义的顺序必须是：必选参数(positional arguments)、默认参数、可变参数、命名关键字参数(keyword-only arguments)和关键字参数**"
   ]
  },
  {
   "cell_type": "code",
   "execution_count": 28,
   "metadata": {
    "collapsed": true
   },
   "outputs": [],
   "source": [
    "def foo(x, y, z=1, *args, **kwargs):\n",
    "    print(x, y, z, args, kwargs)\n",
    "def fooo(x, y, *, z, **kwargs):\n",
    "    print(x, y, z, kwargs)"
   ]
  },
  {
   "cell_type": "code",
   "execution_count": 51,
   "metadata": {
    "collapsed": false
   },
   "outputs": [
    {
     "name": "stdout",
     "output_type": "stream",
     "text": [
      "1 2 1 () {'a': 2}\n",
      "1 2 3 {}\n"
     ]
    }
   ],
   "source": [
    "foo(1, 2, a=2)\n",
    "fooo(1, 2, z=3)"
   ]
  },
  {
   "cell_type": "markdown",
   "metadata": {},
   "source": [
    "虽然这么多种参数很酷炫，但是尽量不要用太多在一起。Because if you read some code you dont't understand, simply just shoot the coder.       -- Tim Peters"
   ]
  },
  {
   "cell_type": "markdown",
   "metadata": {},
   "source": [
    "Recursion(函数调用自身函数）"
   ]
  },
  {
   "cell_type": "code",
   "execution_count": 76,
   "metadata": {
    "collapsed": false
   },
   "outputs": [
    {
     "name": "stdout",
     "output_type": "stream",
     "text": [
      "10000 loops, best of 3: 51.5 µs per loop\n"
     ]
    }
   ],
   "source": [
    "def fac(n):\n",
    "    if n == 1:\n",
    "        return 1\n",
    "    return n * fac(n - 1)\n",
    "%timeit fac(200)"
   ]
  },
  {
   "cell_type": "code",
   "execution_count": 78,
   "metadata": {
    "collapsed": false
   },
   "outputs": [
    {
     "name": "stdout",
     "output_type": "stream",
     "text": [
      "The slowest run took 1035.38 times longer than the fastest. This could mean that an intermediate result is being cached.\n",
      "10000000 loops, best of 3: 148 ns per loop\n"
     ]
    }
   ],
   "source": [
    "from functools import lru_cache\n",
    "@lru_cache(128) # store the recent 128 variables into cache, should be faster\n",
    "def fac(n):\n",
    "    if n == 1:\n",
    "        return 1\n",
    "    return n * fac(n - 1)\n",
    "%timeit fac(200)"
   ]
  },
  {
   "cell_type": "markdown",
   "metadata": {},
   "source": [
    "Hell NO! WTF, why is it much slower??"
   ]
  },
  {
   "cell_type": "markdown",
   "metadata": {},
   "source": [
    "**使用递归函数的优点是逻辑简单清晰，缺点是过深的调用会导致栈溢出**"
   ]
  },
  {
   "cell_type": "markdown",
   "metadata": {},
   "source": [
    "### 3.高级特性"
   ]
  },
  {
   "cell_type": "markdown",
   "metadata": {
    "collapsed": true
   },
   "source": [
    "切片 list[a: b] 包括 a 但不包括 b"
   ]
  },
  {
   "cell_type": "code",
   "execution_count": 24,
   "metadata": {
    "collapsed": false
   },
   "outputs": [
    {
     "data": {
      "text/plain": [
       "[0, 1]"
      ]
     },
     "execution_count": 24,
     "metadata": {},
     "output_type": "execute_result"
    },
    {
     "data": {
      "text/plain": [
       "[2, 3, 4]"
      ]
     },
     "execution_count": 24,
     "metadata": {},
     "output_type": "execute_result"
    },
    {
     "data": {
      "text/plain": [
       "[2, 3]"
      ]
     },
     "execution_count": 24,
     "metadata": {},
     "output_type": "execute_result"
    }
   ],
   "source": [
    "ls = [0, 1, 2, 3, 4]\n",
    "ls[:2] # first two elements\n",
    "ls[2:] # from the thrid element to the end\n",
    "ls[-3: -1]   # include [-3] but not [-1]"
   ]
  },
  {
   "cell_type": "code",
   "execution_count": 9,
   "metadata": {
    "collapsed": false
   },
   "outputs": [
    {
     "data": {
      "text/plain": [
       "[0, 2, 4]"
      ]
     },
     "execution_count": 9,
     "metadata": {},
     "output_type": "execute_result"
    }
   ],
   "source": [
    "ls[::2] # 每隔2个取1个"
   ]
  },
  {
   "cell_type": "code",
   "execution_count": 25,
   "metadata": {
    "collapsed": false
   },
   "outputs": [
    {
     "data": {
      "text/plain": [
       "[4, 3, 2, 1, 0]"
      ]
     },
     "execution_count": 25,
     "metadata": {},
     "output_type": "execute_result"
    }
   ],
   "source": [
    "# reverse the list\n",
    "# understand it!\n",
    "ls[::-1]"
   ]
  },
  {
   "cell_type": "code",
   "execution_count": 12,
   "metadata": {
    "collapsed": false
   },
   "outputs": [
    {
     "data": {
      "text/plain": [
       "[0, 1, 2, 3, 4]"
      ]
     },
     "execution_count": 12,
     "metadata": {},
     "output_type": "execute_result"
    }
   ],
   "source": [
    "# copy a list\n",
    "# understand it!\n",
    "ls[:]"
   ]
  },
  {
   "cell_type": "code",
   "execution_count": 15,
   "metadata": {
    "collapsed": false
   },
   "outputs": [
    {
     "data": {
      "text/plain": [
       "(1, 2, 3, 4)"
      ]
     },
     "execution_count": 15,
     "metadata": {},
     "output_type": "execute_result"
    }
   ],
   "source": [
    "# tuple 也支持切片操作!\n",
    "tps = (0, 1, 2, 3, 4)\n",
    "tps[1:]"
   ]
  },
  {
   "cell_type": "code",
   "execution_count": 26,
   "metadata": {
    "collapsed": false
   },
   "outputs": [
    {
     "data": {
      "text/plain": [
       "'dcba'"
      ]
     },
     "execution_count": 26,
     "metadata": {},
     "output_type": "execute_result"
    }
   ],
   "source": [
    "# str 也支持切片操作!\n",
    "s = 'abcd'\n",
    "s[::-1]"
   ]
  },
  {
   "cell_type": "markdown",
   "metadata": {},
   "source": [
    "迭代"
   ]
  },
  {
   "cell_type": "code",
   "execution_count": 27,
   "metadata": {
    "collapsed": false
   },
   "outputs": [
    {
     "data": {
      "text/plain": [
       "True"
      ]
     },
     "execution_count": 27,
     "metadata": {},
     "output_type": "execute_result"
    },
    {
     "data": {
      "text/plain": [
       "True"
      ]
     },
     "execution_count": 27,
     "metadata": {},
     "output_type": "execute_result"
    }
   ],
   "source": [
    "# check if the object is iterable\n",
    "from collections import Iterable\n",
    "isinstance('xyz', Iterable)\n",
    "isinstance([1, 2, 3], Iterable)"
   ]
  },
  {
   "cell_type": "markdown",
   "metadata": {},
   "source": [
    "下标循环 enumerate()"
   ]
  },
  {
   "cell_type": "code",
   "execution_count": 34,
   "metadata": {
    "collapsed": false
   },
   "outputs": [
    {
     "data": {
      "text/plain": [
       "{'M': 0, 'a': 4, 'c': 2, 'e': 5, 'h': 3, 'i': 1, 'l': 6}"
      ]
     },
     "execution_count": 34,
     "metadata": {},
     "output_type": "execute_result"
    }
   ],
   "source": [
    "x = 'Michael'\n",
    "indexes = []\n",
    "chars = []\n",
    "for index, char in enumerate(x):\n",
    "    indexes.append(index)\n",
    "    chars.append(char)\n",
    "\n",
    "dic = dict(zip(chars, indexes))\n",
    "dic"
   ]
  },
  {
   "cell_type": "markdown",
   "metadata": {},
   "source": [
    "List Comprehensions 列表推导"
   ]
  },
  {
   "cell_type": "code",
   "execution_count": 25,
   "metadata": {
    "collapsed": false
   },
   "outputs": [
    {
     "data": {
      "text/plain": [
       "[4, 16, 36, 64, 100]"
      ]
     },
     "execution_count": 25,
     "metadata": {},
     "output_type": "execute_result"
    }
   ],
   "source": [
    "lst = [x**2 for x in range(1,11) if x % 2 == 0]\n",
    "lst"
   ]
  },
  {
   "cell_type": "code",
   "execution_count": 35,
   "metadata": {
    "collapsed": false
   },
   "outputs": [
    {
     "data": {
      "text/plain": [
       "['x1', 'x2', 'x3', 'y1', 'y2', 'y3', 'z1', 'z2', 'z3']"
      ]
     },
     "execution_count": 35,
     "metadata": {},
     "output_type": "execute_result"
    }
   ],
   "source": [
    "[m + n for m in 'xyz'\n",
    "       for n in '123']"
   ]
  },
  {
   "cell_type": "code",
   "execution_count": 39,
   "metadata": {
    "collapsed": false
   },
   "outputs": [
    {
     "name": "stdout",
     "output_type": "stream",
     "text": [
      "z 3\n",
      "y 2\n",
      "x 1\n"
     ]
    },
    {
     "data": {
      "text/plain": [
       "True"
      ]
     },
     "execution_count": 39,
     "metadata": {},
     "output_type": "execute_result"
    }
   ],
   "source": [
    "# Dictionary comprehensions\n",
    "dic = {'x':1, 'y':2, 'z':3}\n",
    "# dic.keys() # keys\n",
    "# dic.values() # values\n",
    "# dic.items() # keys + values\n",
    "\n",
    "for key, value in dic.items():\n",
    "    print(key, value)\n",
    "\n",
    "# generate a dictionary with dict comprehensions\n",
    "# fucking cool\n",
    "dic2 = {k:v for k,v in dic.items()}\n",
    "dic == dic2"
   ]
  },
  {
   "cell_type": "code",
   "execution_count": 48,
   "metadata": {
    "collapsed": false
   },
   "outputs": [
    {
     "data": {
      "text/plain": [
       "['a', 'b', 'c']"
      ]
     },
     "execution_count": 48,
     "metadata": {},
     "output_type": "execute_result"
    }
   ],
   "source": [
    "# lower case all the elements in a list includes str and int\n",
    "L = ['A', 1, 'B', 2, 'C']\n",
    "L_new = [letter.lower() for letter in L if isinstance(letter, str)]\n",
    "L_new"
   ]
  },
  {
   "cell_type": "markdown",
   "metadata": {},
   "source": [
    "### Generator 生成器 (一个一边计算一边生成的列表，可以节省很多 space）\n",
    "- 一个非常强大的工具，可以实现复杂逻辑"
   ]
  },
  {
   "cell_type": "code",
   "execution_count": 35,
   "metadata": {
    "collapsed": false
   },
   "outputs": [
    {
     "data": {
      "text/plain": [
       "[0, 1, 2, 3, 4, 5, 6, 7, 8, 9]"
      ]
     },
     "execution_count": 35,
     "metadata": {},
     "output_type": "execute_result"
    },
    {
     "data": {
      "text/plain": [
       "<generator object <genexpr> at 0x104f72ba0>"
      ]
     },
     "execution_count": 35,
     "metadata": {},
     "output_type": "execute_result"
    },
    {
     "data": {
      "text/plain": [
       "0"
      ]
     },
     "execution_count": 35,
     "metadata": {},
     "output_type": "execute_result"
    },
    {
     "data": {
      "text/plain": [
       "1"
      ]
     },
     "execution_count": 35,
     "metadata": {},
     "output_type": "execute_result"
    },
    {
     "data": {
      "text/plain": [
       "2"
      ]
     },
     "execution_count": 35,
     "metadata": {},
     "output_type": "execute_result"
    },
    {
     "data": {
      "text/plain": [
       "3"
      ]
     },
     "execution_count": 35,
     "metadata": {},
     "output_type": "execute_result"
    },
    {
     "data": {
      "text/plain": [
       "4"
      ]
     },
     "execution_count": 35,
     "metadata": {},
     "output_type": "execute_result"
    }
   ],
   "source": [
    "# Way 1: create a generator - use () instead of []\n",
    "lst = [x for x in range(10)]\n",
    "lst\n",
    "gen = (x for x in range(5))\n",
    "gen\n",
    "\n",
    "# get values from generator using next()\n",
    "while True:\n",
    "    try:\n",
    "        next(gen)\n",
    "    except StopIteration: # generator 的停止条件\n",
    "        break"
   ]
  },
  {
   "cell_type": "markdown",
   "metadata": {},
   "source": [
    "generator 也是可以迭代的 （既是 Iterable 也是 Iterator）"
   ]
  },
  {
   "cell_type": "code",
   "execution_count": 37,
   "metadata": {
    "collapsed": false
   },
   "outputs": [
    {
     "data": {
      "text/plain": [
       "True"
      ]
     },
     "execution_count": 37,
     "metadata": {},
     "output_type": "execute_result"
    },
    {
     "data": {
      "text/plain": [
       "True"
      ]
     },
     "execution_count": 37,
     "metadata": {},
     "output_type": "execute_result"
    },
    {
     "name": "stdout",
     "output_type": "stream",
     "text": [
      "0 1 2 3 4 "
     ]
    }
   ],
   "source": [
    "from collections import Iterable, Iterator\n",
    "\n",
    "isinstance(gen, Iterable)\n",
    "isinstance(gen, Iterator)\n",
    "\n",
    "gen = (x for x in range(5))\n",
    "for i in gen:\n",
    "    print(i, end = ' ')"
   ]
  },
  {
   "cell_type": "code",
   "execution_count": 45,
   "metadata": {
    "collapsed": false
   },
   "outputs": [
    {
     "name": "stdout",
     "output_type": "stream",
     "text": [
      "1 1 2 3 5 8 13 21 34 55 "
     ]
    },
    {
     "data": {
      "text/plain": [
       "'done'"
      ]
     },
     "execution_count": 45,
     "metadata": {},
     "output_type": "execute_result"
    }
   ],
   "source": [
    "# 普通 function 来实现 Fibonacci numbers:\n",
    "# 1, 1, 2, 3, 5, 8, 13 ...\n",
    "def fib(max):\n",
    "    a, b = 1, 1 # first two numbers\n",
    "    n = 0 # nb of iterations\n",
    "    while n < max:\n",
    "        print(b, end=' ')\n",
    "        b, a = a, a + b # Fucking cool\n",
    "        n += 1\n",
    "    return 'done'\n",
    "fib(10)"
   ]
  },
  {
   "cell_type": "markdown",
   "metadata": {},
   "source": [
    "然后我们尝试用 generator 来实现 Fibonacci numbers:\n",
    "- print(x) --> yield x\n",
    "- 因为上面 print 出一个值再计算一个值的思想跟 generator 很像， **所以我们只需要将 print 改为 yield****\n",
    "- 若一个函数包含关键字 **yield** 那么 它就不是普通 function 而是 generator"
   ]
  },
  {
   "cell_type": "code",
   "execution_count": 44,
   "metadata": {
    "collapsed": false
   },
   "outputs": [
    {
     "name": "stdout",
     "output_type": "stream",
     "text": [
      "1 1 2 3 5 8 13 21 34 55 "
     ]
    }
   ],
   "source": [
    "def fib_gen(max):\n",
    "    a, b = 1, 1 # first two numbers\n",
    "    n = 0 # nb of iterations\n",
    "    while n < max:\n",
    "        yield b \n",
    "        b, a = a, a + b\n",
    "        n += 1\n",
    "    return 'done'\n",
    "\n",
    "for nb in fib_gen(10):\n",
    "    print(nb, end=' ')"
   ]
  },
  {
   "cell_type": "code",
   "execution_count": 42,
   "metadata": {
    "collapsed": false
   },
   "outputs": [
    {
     "name": "stdout",
     "output_type": "stream",
     "text": [
      "1 2 3 4 5 6 7 8 9 10 11 12 13 14 15 16 17 18 19 20 21 22 23 24 25 26 27 28 29 30 31 32 33 34 35 36 37 38 39 40 41 42 43 44 45 46 47 48 49 50 "
     ]
    }
   ],
   "source": [
    "# All natural numbers!!\n",
    "# fucking cool\n",
    "def natural_nb():\n",
    "    x = 1\n",
    "    while True:\n",
    "        yield x\n",
    "        x += 1\n",
    "        \n",
    "nnb = natural_nb()\n",
    "for i in range(50):\n",
    "    print(next(nnb), end=' ')"
   ]
  },
  {
   "cell_type": "markdown",
   "metadata": {},
   "source": [
    "这里，最难理解的就是generator和函数的执行流程不一样。函数是顺序执行，遇到return语句或者最后一行函数语句就返回。而变成generator的函数，__在每次调用next()的时候执行，遇到yield语句返回，再次执行时从上次返回的yield语句处继续执行__\n",
    "- **1. next() 只会返回下一个 yield 的值**\n",
    "- **2. 永远不会返回 return 的值**\n",
    "- **3. 如果想返回 return 的值，需要 catch StopIteration 的错误**"
   ]
  },
  {
   "cell_type": "code",
   "execution_count": 47,
   "metadata": {
    "collapsed": false
   },
   "outputs": [
    {
     "name": "stdout",
     "output_type": "stream",
     "text": [
      "1\n",
      "1\n",
      "2\n",
      "3\n",
      "5\n",
      "8\n",
      "13\n",
      "21\n",
      "34\n",
      "55\n",
      "done\n"
     ]
    }
   ],
   "source": [
    "gen = fib_gen(10) # defined above, final return NONE\n",
    "while True:    \n",
    "    try:\n",
    "        print(next(gen))\n",
    "    except StopIteration as e:\n",
    "        print(e)\n",
    "        break\n",
    "\n",
    "# BREAK is very important here!!"
   ]
  },
  {
   "cell_type": "markdown",
   "metadata": {},
   "source": [
    "让我们用 generator 实现一个杨辉三角\n"
   ]
  },
  {
   "cell_type": "code",
   "execution_count": 16,
   "metadata": {
    "collapsed": false
   },
   "outputs": [
    {
     "name": "stdout",
     "output_type": "stream",
     "text": [
      "[1]\n",
      "[1, 1]\n",
      "[1, 2, 1]\n",
      "[1, 3, 3, 1]\n",
      "[1, 4, 6, 4, 1]\n",
      "[1, 5, 10, 10, 5, 1]\n",
      "[1, 6, 15, 20, 15, 6, 1]\n",
      "[1, 7, 21, 35, 35, 21, 7, 1]\n",
      "[1, 8, 28, 56, 70, 56, 28, 8, 1]\n",
      "[1, 9, 36, 84, 126, 126, 84, 36, 9, 1]\n",
      "CPU times: user 125 µs, sys: 0 ns, total: 125 µs\n",
      "Wall time: 130 µs\n"
     ]
    }
   ],
   "source": [
    "%%time\n",
    "# 普通 function 的实现方法\n",
    "# 期待输出:\n",
    "# [1]\n",
    "# [1, 1]\n",
    "# [1, 2, 1]\n",
    "# [1, 3, 3, 1]\n",
    "# [1, 4, 6, 4, 1]\n",
    "# [1, 5, 10, 10, 5, 1]\n",
    "# [1, 6, 15, 20, 15, 6, 1]\n",
    "# [1, 7, 21, 35, 35, 21, 7, 1]\n",
    "# [1, 8, 28, 56, 70, 56, 28, 8, 1]\n",
    "# [1, 9, 36, 84, 126, 126, 84, 36, 9, 1]\n",
    "def triangle(n):\n",
    "    old_list = [1]\n",
    "    layer = 1\n",
    "    while layer <= n:\n",
    "        print(old_list)\n",
    "        new_list = [None] * (layer + 1)\n",
    "        for i in range(layer + 1):\n",
    "            if i == 0 or i == len(old_list):\n",
    "                new_list[i] = 1\n",
    "            else:\n",
    "                new_list[i] = old_list[i - 1] + old_list[i]\n",
    "        layer += 1\n",
    "        old_list = new_list\n",
    "triangle(10)"
   ]
  },
  {
   "cell_type": "code",
   "execution_count": 33,
   "metadata": {
    "collapsed": false
   },
   "outputs": [
    {
     "data": {
      "text/plain": [
       "<generator object triangle_gen at 0x104fcd150>"
      ]
     },
     "execution_count": 33,
     "metadata": {},
     "output_type": "execute_result"
    },
    {
     "name": "stdout",
     "output_type": "stream",
     "text": [
      "[1]\n",
      "[1, 1]\n",
      "[1, 2, 1]\n",
      "[1, 3, 3, 1]\n",
      "[1, 4, 6, 4, 1]\n",
      "[1, 5, 10, 10, 5, 1]\n",
      "[1, 6, 15, 20, 15, 6, 1]\n",
      "[1, 7, 21, 35, 35, 21, 7, 1]\n",
      "[1, 8, 28, 56, 70, 56, 28, 8, 1]\n",
      "[1, 9, 36, 84, 126, 126, 84, 36, 9, 1]\n"
     ]
    }
   ],
   "source": [
    "# generator 实现方法\n",
    "# 仅仅是把 print 换成了 yield\n",
    "def triangle_gen(n):\n",
    "    old_list = [1]\n",
    "    layer = 1\n",
    "    while layer <= n:\n",
    "        yield old_list\n",
    "        new_list = [None] * (layer + 1)\n",
    "        for i in range(layer + 1):\n",
    "            if i == 0:\n",
    "                new_list[i] = 1\n",
    "            elif i == len(old_list):\n",
    "                new_list[i] = 1\n",
    "            else:\n",
    "                new_list[i] = old_list[i - 1] + old_list[i]\n",
    "        layer += 1\n",
    "        old_list = new_list\n",
    "triangle_gen(10)\n",
    "for i in triangle_gen(10):\n",
    "    print(i)\n",
    "\n",
    "# 卧槽，竟然想出来了"
   ]
  },
  {
   "cell_type": "markdown",
   "metadata": {},
   "source": [
    "#### 可以被 for 迭代的有两种结构：\n",
    "- Iterable: str, list, tuple, dict, set\n",
    "- Iterator: generator\n",
    "- 他们的区别为： Iterator 可以用 next() 但 Iterable 那些不能"
   ]
  },
  {
   "cell_type": "markdown",
   "metadata": {},
   "source": [
    "迭代器 Iterator\n",
    "- 可以被next( )函数调用并不断返回下一个值的对象称为迭代器：Iterator。\n",
    "- 可以使用 isinstance() 判断一个对象是否是 Iterator 对象 （注意不是 Iterable)"
   ]
  },
  {
   "cell_type": "markdown",
   "metadata": {},
   "source": [
    "iter( ) 可以把 str, list dict 等 变为 Iterator"
   ]
  },
  {
   "cell_type": "code",
   "execution_count": 18,
   "metadata": {
    "collapsed": false
   },
   "outputs": [
    {
     "data": {
      "text/plain": [
       "False"
      ]
     },
     "execution_count": 18,
     "metadata": {},
     "output_type": "execute_result"
    }
   ],
   "source": [
    "from collections import Iterable, Iterator\n",
    "isinstance([1, 2, 3], Iterable)\n",
    "isinstance([1, 2, 3], Iterator)"
   ]
  },
  {
   "cell_type": "code",
   "execution_count": 19,
   "metadata": {
    "collapsed": false
   },
   "outputs": [
    {
     "data": {
      "text/plain": [
       "True"
      ]
     },
     "execution_count": 19,
     "metadata": {},
     "output_type": "execute_result"
    }
   ],
   "source": [
    "# 把 list 变成 iter\n",
    "isinstance(iter([1, 2, 3]), Iterator)"
   ]
  },
  {
   "cell_type": "markdown",
   "metadata": {},
   "source": [
    "这是因为Python的Iterator对象表示的是一个数据流，Iterator对象可以被next()函数调用并不断返回下一个数据，直到没有数据时抛出StopIteration错误。可以把这个数据流看做是一个有序序列，但我们却不能提前知道序列的长度，只能不断通过next()函数实现按需计算下一个数据，所以Iterator的计算是惰性的，只有在需要返回下一个数据时它才会计算。\n",
    "\n",
    "Iterator甚至可以表示一个无限大的数据流，例如全体自然数。而使用list是永远不可能存储全体自然数的。"
   ]
  },
  {
   "cell_type": "markdown",
   "metadata": {},
   "source": [
    "**Python的for循环本质上就是通过不断调用next()函数实现的**"
   ]
  }
 ],
 "metadata": {
  "anaconda-cloud": {},
  "kernelspec": {
   "display_name": "Python [Root]",
   "language": "python",
   "name": "Python [Root]"
  },
  "language_info": {
   "codemirror_mode": {
    "name": "ipython",
    "version": 3
   },
   "file_extension": ".py",
   "mimetype": "text/x-python",
   "name": "python",
   "nbconvert_exporter": "python",
   "pygments_lexer": "ipython3",
   "version": "3.5.2"
  }
 },
 "nbformat": 4,
 "nbformat_minor": 0
}
