{
 "cells": [
  {
   "cell_type": "markdown",
   "metadata": {},
   "source": [
    "# Python Fundamentals"
   ]
  },
  {
   "cell_type": "markdown",
   "metadata": {},
   "source": [
    "This is my review note of Python for the purpose of self-study. The note mixes up with English & Chinese.\n",
    "- Part I follows the [Liao's Python tutorial](https://www.liaoxuefeng.com/wiki/0014316089557264a6b348958f449949df42a6d3a2e542c000) (in Chinese)"
   ]
  },
  {
   "cell_type": "code",
   "execution_count": 48,
   "metadata": {
    "collapsed": true
   },
   "outputs": [],
   "source": [
    "# Display multiple interactive objects in one shell\n",
    "# No Need for print function\n",
    "from IPython.core.interactiveshell import InteractiveShell\n",
    "InteractiveShell.ast_node_interactivity = \"all\""
   ]
  },
  {
   "cell_type": "markdown",
   "metadata": {
    "collapsed": false
   },
   "source": [
    "## Part I"
   ]
  },
  {
   "cell_type": "markdown",
   "metadata": {
    "collapsed": true
   },
   "source": [
    "### 1. Python Basics (Encoding/formating/list/tuple/if/loop/dict/set)\n",
    "- 缩进为4个空格\n",
    "- Python's str use Unicode\n",
    "- If you want to transform between str and bytes, please use UTF-8\n",
    "- 编码：\n",
    "\t- 最早只有127个字符被编码到计算机里，也就是大小写英文字母、数字和一些符号，这个编码表被称为ASCII编码\n",
    "\t- 其他国家语言加入进去，中文GB2312，日文Shift_JIS等等。编码不同，会产生乱码。\n",
    "\t- 为了世界和平，产生了 Unicode 包含所有语言\n",
    "\t- 问题在于 Unicode 编码通常为 2 个字节 而 ASCII 只需要 1个字节\n",
    "\t- 本着节约储存空间的原则，出现了把Unicode编码转化为“可变长编码”的UTF-8 编码， 可以把 Unicode 转化为 1-6 个字节 （英文 1 个， 中文 3 个， 稀有的特殊符号6个 等）。\n",
    "\t- 在计算机内存中，统一使用 Unicode 编码， 当要保存到硬盘上的时候再用 Unicode 转换成 UTF-8 节省空间。\n",
    "\t- 例如在记事本中打字的时候，编码为 Unicode， 保存为 abc.txt 的时候， 编码为 UTF-8。 读取文件时候 会把编码从 UTF-8 转换为 Unicode 显示在笔记本中。\n",
    "\t- 例如浏览网页的时候，服务器里储存的为 Unicode， 会把其转化为 UTF-8 显示到浏览器上。"
   ]
  },
  {
   "cell_type": "code",
   "execution_count": 80,
   "metadata": {
    "collapsed": false
   },
   "outputs": [
    {
     "data": {
      "text/plain": [
       "'中文'"
      ]
     },
     "execution_count": 80,
     "metadata": {},
     "output_type": "execute_result"
    },
    {
     "data": {
      "text/plain": [
       "'我的 python 666'"
      ]
     },
     "execution_count": 80,
     "metadata": {},
     "output_type": "execute_result"
    }
   ],
   "source": [
    "# 如果知道字符的整数编码，可以用16进制这么写 str\n",
    "# COOL!\n",
    "'\\u4e2d\\u6587'\n",
    "'\\u6211\\u7684\\u0020\\u0070\\u0079\\u0074\\u0068\\u006f\\u006e\\u0020\\u0036\\u0036\\u0036'"
   ]
  },
  {
   "cell_type": "markdown",
   "metadata": {},
   "source": [
    "若在网络传输或保存磁盘，需要把 str 中的 char (unicode) 变为字节单位 bytes"
   ]
  },
  {
   "cell_type": "code",
   "execution_count": 81,
   "metadata": {
    "collapsed": false
   },
   "outputs": [
    {
     "data": {
      "text/plain": [
       "'xyz'"
      ]
     },
     "execution_count": 81,
     "metadata": {},
     "output_type": "execute_result"
    },
    {
     "data": {
      "text/plain": [
       "b'xyz'"
      ]
     },
     "execution_count": 81,
     "metadata": {},
     "output_type": "execute_result"
    }
   ],
   "source": [
    "'xyz'\n",
    "b'xyz'"
   ]
  },
  {
   "cell_type": "code",
   "execution_count": 82,
   "metadata": {
    "collapsed": false
   },
   "outputs": [
    {
     "name": "stdout",
     "output_type": "stream",
     "text": [
      "b'xyz'\n",
      "b'xyz'\n",
      "b'\\xb9\\xfe\\xa4\\xce\\xb9\\xfe'\n",
      "b'\\x99\\xfb\\x99\\xfb'\n"
     ]
    }
   ],
   "source": [
    "# encode\n",
    "# in bytes, it will show '\\x##' if the char is not in ascii\n",
    "print('xyz'.encode('ascii'))\n",
    "print('xyz'.encode('utf-8'))\n",
    "print('哈の哈'.encode('GB2312')) # why it can encode Japanese??\n",
    "print('哈哈'.encode('Shift_JIS')) # why the fuck it can encode Chinese??"
   ]
  },
  {
   "cell_type": "code",
   "execution_count": 83,
   "metadata": {
    "collapsed": false
   },
   "outputs": [
    {
     "ename": "UnicodeEncodeError",
     "evalue": "'ascii' codec can't encode characters in position 0-1: ordinal not in range(128)",
     "output_type": "error",
     "traceback": [
      "\u001b[0;31m---------------------------------------------------------------------------\u001b[0m",
      "\u001b[0;31mUnicodeEncodeError\u001b[0m                        Traceback (most recent call last)",
      "\u001b[0;32m<ipython-input-83-a071f34ea84b>\u001b[0m in \u001b[0;36m<module>\u001b[0;34m()\u001b[0m\n\u001b[1;32m      1\u001b[0m \u001b[0;31m# Chinese cannot encoded by ascii\u001b[0m\u001b[0;34m\u001b[0m\u001b[0;34m\u001b[0m\u001b[0m\n\u001b[0;32m----> 2\u001b[0;31m \u001b[0;34m'哈哈'\u001b[0m\u001b[0;34m.\u001b[0m\u001b[0mencode\u001b[0m\u001b[0;34m(\u001b[0m\u001b[0;34m'ascii'\u001b[0m\u001b[0;34m)\u001b[0m\u001b[0;34m\u001b[0m\u001b[0m\n\u001b[0m",
      "\u001b[0;31mUnicodeEncodeError\u001b[0m: 'ascii' codec can't encode characters in position 0-1: ordinal not in range(128)"
     ]
    }
   ],
   "source": [
    "# Chinese cannot encoded by ascii\n",
    "'哈哈'.encode('ascii')"
   ]
  },
  {
   "cell_type": "markdown",
   "metadata": {},
   "source": [
    "Reversely, if we want to get the str from the disk (bytes), we need to decode by different encoders (ascii/utf-8...)."
   ]
  },
  {
   "cell_type": "code",
   "execution_count": 115,
   "metadata": {
    "collapsed": false
   },
   "outputs": [
    {
     "data": {
      "text/plain": [
       "'xyz'"
      ]
     },
     "execution_count": 115,
     "metadata": {},
     "output_type": "execute_result"
    },
    {
     "data": {
      "text/plain": [
       "'哈の哈'"
      ]
     },
     "execution_count": 115,
     "metadata": {},
     "output_type": "execute_result"
    }
   ],
   "source": [
    "b'xyz'.decode('ascii')\n",
    "b'\\xb9\\xfe\\xa4\\xce\\xb9\\xfe'.decode('GB2312')"
   ]
  },
  {
   "cell_type": "code",
   "execution_count": 116,
   "metadata": {
    "collapsed": false
   },
   "outputs": [
    {
     "ename": "UnicodeDecodeError",
     "evalue": "'utf-8' codec can't decode byte 0xb9 in position 0: invalid start byte",
     "output_type": "error",
     "traceback": [
      "\u001b[0;31m---------------------------------------------------------------------------\u001b[0m",
      "\u001b[0;31mUnicodeDecodeError\u001b[0m                        Traceback (most recent call last)",
      "\u001b[0;32m<ipython-input-116-2fd7cf407b0d>\u001b[0m in \u001b[0;36m<module>\u001b[0;34m()\u001b[0m\n\u001b[1;32m      1\u001b[0m \u001b[0;31m# similarly, utf-8 cannot decode GB2312\u001b[0m\u001b[0;34m\u001b[0m\u001b[0;34m\u001b[0m\u001b[0m\n\u001b[0;32m----> 2\u001b[0;31m \u001b[0;34mb'\\xb9\\xfe\\xa4\\xce\\xb9\\xfe'\u001b[0m\u001b[0;34m.\u001b[0m\u001b[0mdecode\u001b[0m\u001b[0;34m(\u001b[0m\u001b[0;34m'utf-8'\u001b[0m\u001b[0;34m)\u001b[0m\u001b[0;34m\u001b[0m\u001b[0m\n\u001b[0m",
      "\u001b[0;31mUnicodeDecodeError\u001b[0m: 'utf-8' codec can't decode byte 0xb9 in position 0: invalid start byte"
     ]
    }
   ],
   "source": [
    "# similarly, utf-8 cannot decode GB2312\n",
    "b'\\xb9\\xfe\\xa4\\xce\\xb9\\xfe'.decode('utf-8')"
   ]
  },
  {
   "cell_type": "code",
   "execution_count": 117,
   "metadata": {
    "collapsed": false
   },
   "outputs": [
    {
     "data": {
      "text/plain": [
       "'ι'"
      ]
     },
     "execution_count": 117,
     "metadata": {},
     "output_type": "execute_result"
    },
    {
     "data": {
      "text/plain": [
       "b'\\xce\\xb9'"
      ]
     },
     "execution_count": 117,
     "metadata": {},
     "output_type": "execute_result"
    }
   ],
   "source": [
    "# you could choose to ignore the errors, in order to decode the understood part\n",
    "b'\\xb9\\xfe\\xa4\\xce\\xb9\\xfe'.decode('utf-8', errors='ignore')\n",
    "'ι'.encode('utf-8') # understood part, not exactly what we want"
   ]
  },
  {
   "cell_type": "code",
   "execution_count": 120,
   "metadata": {
    "collapsed": false
   },
   "outputs": [
    {
     "data": {
      "text/plain": [
       "2"
      ]
     },
     "execution_count": 120,
     "metadata": {},
     "output_type": "execute_result"
    },
    {
     "data": {
      "text/plain": [
       "6"
      ]
     },
     "execution_count": 120,
     "metadata": {},
     "output_type": "execute_result"
    },
    {
     "data": {
      "text/plain": [
       "b'\\xe5\\x93\\x88\\xe5\\x93\\x88'"
      ]
     },
     "execution_count": 120,
     "metadata": {},
     "output_type": "execute_result"
    }
   ],
   "source": [
    "# len() returns the number of char in a str\n",
    "len('哈哈')\n",
    "len('哈哈'.encode('utf-8'))\n",
    "'哈哈'.encode('utf-8') # disk space 2 chinese char = 6 bytes"
   ]
  },
  {
   "cell_type": "markdown",
   "metadata": {},
   "source": [
    "为了避免乱码问题，应该始终坚持用 utf-8 进行 str / byte 转化"
   ]
  },
  {
   "cell_type": "markdown",
   "metadata": {},
   "source": [
    "程序一般会以这两行开头，第一行告诉 linux/osx 系统用 python3 运行(windows will ignore)，第二行告诉 python 按照 utf-8 读源代码，否则读取中文时候会出现乱码\n",
    "另外要确定 文本编辑器 正在使用 utf-8 without BOM 编码."
   ]
  },
  {
   "cell_type": "code",
   "execution_count": 121,
   "metadata": {
    "collapsed": true
   },
   "outputs": [],
   "source": [
    "#!/usr/bin/python3\n",
    "# -*- coding: utf-8 -*-"
   ]
  },
  {
   "cell_type": "markdown",
   "metadata": {},
   "source": [
    "格式化 Formatting\n",
    "Two ways:\n",
    "- 1. % (%d 和 %f 可以指定是否 补0以及位数)\n",
    "    - %d integer\n",
    "    - %f float\n",
    "    - %s str\n",
    "    - %x 十六进制整数\n",
    "\n",
    "- 2. format()"
   ]
  },
  {
   "cell_type": "code",
   "execution_count": 84,
   "metadata": {
    "collapsed": false
   },
   "outputs": [
    {
     "data": {
      "text/plain": [
       "' 3-01'"
      ]
     },
     "execution_count": 84,
     "metadata": {},
     "output_type": "execute_result"
    },
    {
     "data": {
      "text/plain": [
       "'1.24'"
      ]
     },
     "execution_count": 84,
     "metadata": {},
     "output_type": "execute_result"
    }
   ],
   "source": [
    "'%2d-%02d' % (3,1)\n",
    "'%.2f' % (1.236)"
   ]
  },
  {
   "cell_type": "markdown",
   "metadata": {},
   "source": [
    "If you don't know which one to use, then just use %s. (convert anything to str)"
   ]
  },
  {
   "cell_type": "code",
   "execution_count": 85,
   "metadata": {
    "collapsed": false
   },
   "outputs": [
    {
     "data": {
      "text/plain": [
       "\"my name is Michael, I'm 24\""
      ]
     },
     "execution_count": 85,
     "metadata": {},
     "output_type": "execute_result"
    }
   ],
   "source": [
    "'my name is %s, I\\'m %s' % ('Michael', 24)"
   ]
  },
  {
   "cell_type": "code",
   "execution_count": 86,
   "metadata": {
    "collapsed": false
   },
   "outputs": [
    {
     "data": {
      "text/plain": [
       "\"Michael's grade increase from 80 to 100\""
      ]
     },
     "execution_count": 86,
     "metadata": {},
     "output_type": "execute_result"
    }
   ],
   "source": [
    "# format()\n",
    "'{}\\'s grade increase from {} to {}'.format('Michael', 80, 100)"
   ]
  },
  {
   "cell_type": "markdown",
   "metadata": {},
   "source": [
    "List/Tuple\n",
    "- List 是一个 可变的有序列表\n",
    "- Tuple 是个 不可变的有序列表\n",
    "- 能用 tuple 就不要用 list, tuple 更安全"
   ]
  },
  {
   "cell_type": "code",
   "execution_count": 122,
   "metadata": {
    "collapsed": false
   },
   "outputs": [
    {
     "data": {
      "text/plain": [
       "1"
      ]
     },
     "execution_count": 122,
     "metadata": {},
     "output_type": "execute_result"
    },
    {
     "data": {
      "text/plain": [
       "(1,)"
      ]
     },
     "execution_count": 122,
     "metadata": {},
     "output_type": "execute_result"
    }
   ],
   "source": [
    "# when define a tuple with one element, there is a trick\n",
    "t1 = (1)\n",
    "t2 = (1,) # right\n",
    "t1\n",
    "t2"
   ]
  },
  {
   "cell_type": "markdown",
   "metadata": {},
   "source": [
    "If statement"
   ]
  },
  {
   "cell_type": "code",
   "execution_count": 123,
   "metadata": {
    "collapsed": false
   },
   "outputs": [
    {
     "name": "stdout",
     "output_type": "stream",
     "text": [
      "This is totally True\n"
     ]
    }
   ],
   "source": [
    "# simple and pythonic way\n",
    "\n",
    "x = -1 # not zero int, True\n",
    "y = 'a' # not empty str, True\n",
    "z = [1, 2, 3] # note empty list, True\n",
    "\n",
    "if x and y and z:\n",
    "    print('This is totally True')"
   ]
  },
  {
   "cell_type": "markdown",
   "metadata": {},
   "source": [
    "Loop\n",
    "\n",
    "Actually nothing worth take notes here"
   ]
  },
  {
   "cell_type": "markdown",
   "metadata": {},
   "source": [
    "Dict/ Set\n",
    "- Compared to List, Dict's search speed is very fast, because it use the key to track the value like a dictionary\n",
    "- Compared to List, Dict will use lots of disk space (space/speed trade-off)\n",
    "- Key must be 不可变对象 (str/int...) but not list\n",
    "\n",
    "- Set means methamatical set\n",
    "- Set only store keys but not values\n",
    "- add() / remove() elements\n",
    "- & | set operators"
   ]
  },
  {
   "cell_type": "code",
   "execution_count": 106,
   "metadata": {
    "collapsed": false
   },
   "outputs": [
    {
     "data": {
      "text/plain": [
       "{'a': 95, 'b': 91, 'c': 99}"
      ]
     },
     "execution_count": 106,
     "metadata": {},
     "output_type": "execute_result"
    }
   ],
   "source": [
    "# one way to create dict\n",
    "student = ['a', 'b', 'c']\n",
    "grades = [95, 91, 99]\n",
    "record = dict(zip(student, grades))\n",
    "record"
   ]
  },
  {
   "cell_type": "code",
   "execution_count": 107,
   "metadata": {
    "collapsed": false
   },
   "outputs": [
    {
     "data": {
      "text/plain": [
       "95"
      ]
     },
     "execution_count": 107,
     "metadata": {},
     "output_type": "execute_result"
    },
    {
     "data": {
      "text/plain": [
       "{'b': 91, 'c': 99}"
      ]
     },
     "execution_count": 107,
     "metadata": {},
     "output_type": "execute_result"
    }
   ],
   "source": [
    "# delete a key and its value\n",
    "record.pop('a')\n",
    "record"
   ]
  },
  {
   "cell_type": "code",
   "execution_count": 111,
   "metadata": {
    "collapsed": false
   },
   "outputs": [
    {
     "data": {
      "text/plain": [
       "{1, 3}"
      ]
     },
     "execution_count": 111,
     "metadata": {},
     "output_type": "execute_result"
    },
    {
     "data": {
      "text/plain": [
       "{1, 2, 3, 4}"
      ]
     },
     "execution_count": 111,
     "metadata": {},
     "output_type": "execute_result"
    }
   ],
   "source": [
    "s1 = set([1, 2, 3])\n",
    "s2 = set([1, 3, 4])\n",
    "s1 & s2\n",
    "s1 | s2"
   ]
  },
  {
   "cell_type": "markdown",
   "metadata": {},
   "source": [
    "### 2. Function\n",
    "- help(function)\n",
    "- since functions are objects (everything in python is object), we give a nickname to a function\n",
    "- if there is no return in a function, it automatically return None"
   ]
  },
  {
   "cell_type": "code",
   "execution_count": 38,
   "metadata": {
    "collapsed": false
   },
   "outputs": [
    {
     "data": {
      "text/plain": [
       "3"
      ]
     },
     "execution_count": 38,
     "metadata": {},
     "output_type": "execute_result"
    }
   ],
   "source": [
    "# nickname a function\n",
    "michael = abs\n",
    "michael(-3)"
   ]
  },
  {
   "cell_type": "code",
   "execution_count": 2,
   "metadata": {
    "collapsed": false
   },
   "outputs": [
    {
     "ename": "TypeError",
     "evalue": "x must be int or float",
     "output_type": "error",
     "traceback": [
      "\u001b[0;31m---------------------------------------------------------------------------\u001b[0m",
      "\u001b[0;31mTypeError\u001b[0m                                 Traceback (most recent call last)",
      "\u001b[0;32m<ipython-input-2-9f22aa6b63bc>\u001b[0m in \u001b[0;36m<module>\u001b[0;34m()\u001b[0m\n\u001b[1;32m      5\u001b[0m     \u001b[0;32mpass\u001b[0m\u001b[0;34m\u001b[0m\u001b[0m\n\u001b[1;32m      6\u001b[0m \u001b[0;34m\u001b[0m\u001b[0m\n\u001b[0;32m----> 7\u001b[0;31m \u001b[0mfoo\u001b[0m\u001b[0;34m(\u001b[0m\u001b[0;34m'a'\u001b[0m\u001b[0;34m)\u001b[0m\u001b[0;34m\u001b[0m\u001b[0m\n\u001b[0m",
      "\u001b[0;32m<ipython-input-2-9f22aa6b63bc>\u001b[0m in \u001b[0;36mfoo\u001b[0;34m(x)\u001b[0m\n\u001b[1;32m      2\u001b[0m \u001b[0;32mdef\u001b[0m \u001b[0mfoo\u001b[0m\u001b[0;34m(\u001b[0m\u001b[0mx\u001b[0m\u001b[0;34m)\u001b[0m\u001b[0;34m:\u001b[0m\u001b[0;34m\u001b[0m\u001b[0m\n\u001b[1;32m      3\u001b[0m     \u001b[0;32mif\u001b[0m \u001b[0;32mnot\u001b[0m \u001b[0misinstance\u001b[0m\u001b[0;34m(\u001b[0m\u001b[0mx\u001b[0m\u001b[0;34m,\u001b[0m \u001b[0;34m(\u001b[0m\u001b[0mint\u001b[0m\u001b[0;34m,\u001b[0m \u001b[0mfloat\u001b[0m\u001b[0;34m)\u001b[0m\u001b[0;34m)\u001b[0m\u001b[0;34m:\u001b[0m\u001b[0;34m\u001b[0m\u001b[0m\n\u001b[0;32m----> 4\u001b[0;31m         \u001b[0;32mraise\u001b[0m \u001b[0mTypeError\u001b[0m\u001b[0;34m(\u001b[0m\u001b[0;34m'x must be int or float'\u001b[0m\u001b[0;34m)\u001b[0m\u001b[0;34m\u001b[0m\u001b[0m\n\u001b[0m\u001b[1;32m      5\u001b[0m     \u001b[0;32mpass\u001b[0m\u001b[0;34m\u001b[0m\u001b[0m\n\u001b[1;32m      6\u001b[0m \u001b[0;34m\u001b[0m\u001b[0m\n",
      "\u001b[0;31mTypeError\u001b[0m: x must be int or float"
     ]
    }
   ],
   "source": [
    "# check type of parameters\n",
    "def foo(x):\n",
    "    if not isinstance(x, (int, float)):\n",
    "        raise TypeError('x must be int or float')\n",
    "    pass\n",
    "\n",
    "foo('a')"
   ]
  },
  {
   "cell_type": "markdown",
   "metadata": {},
   "source": [
    "函数在返回多值时实际上是返回了一个 可被拆包的 tuple, "
   ]
  },
  {
   "cell_type": "code",
   "execution_count": 3,
   "metadata": {
    "collapsed": false
   },
   "outputs": [
    {
     "name": "stdout",
     "output_type": "stream",
     "text": [
      "Equal\n"
     ]
    }
   ],
   "source": [
    "from math import hypot\n",
    "def triangle_property(x, y):\n",
    "    _sum = x + y\n",
    "    _hypot = hypot(x, y)\n",
    "    if _hypot >= _sum:\n",
    "        _property = True\n",
    "    else:\n",
    "        _property = False\n",
    "    return _sum, _hypot, _property\n",
    "\n",
    "s, h, p = triangle_property(3, 4)\n",
    "return_values = triangle_property(3, 4)\n",
    "return_values\n",
    "if (s, h, p) == return_values:\n",
    "    print('Equal')"
   ]
  },
  {
   "cell_type": "markdown",
   "metadata": {},
   "source": [
    "\\*args"
   ]
  },
  {
   "cell_type": "code",
   "execution_count": 14,
   "metadata": {
    "collapsed": false
   },
   "outputs": [
    {
     "name": "stdout",
     "output_type": "stream",
     "text": [
      "<class 'tuple'>\n",
      "(1, 2, 3)\n"
     ]
    },
    {
     "data": {
      "text/plain": [
       "6"
      ]
     },
     "execution_count": 14,
     "metadata": {},
     "output_type": "execute_result"
    }
   ],
   "source": [
    "def sum_elements(*args):\n",
    "    print(type(args))\n",
    "    print(args) # 已经拆包成功\n",
    "    return sum(x for x in args)\n",
    "\n",
    "sum_elements(1, 2, 3)"
   ]
  },
  {
   "cell_type": "code",
   "execution_count": 15,
   "metadata": {
    "collapsed": false
   },
   "outputs": [
    {
     "name": "stdout",
     "output_type": "stream",
     "text": [
      "<class 'tuple'>\n",
      "(1, 2, 3)\n"
     ]
    },
    {
     "data": {
      "text/plain": [
       "6"
      ]
     },
     "execution_count": 15,
     "metadata": {},
     "output_type": "execute_result"
    }
   ],
   "source": [
    "# what if I want to input a list?\n",
    "nbs = [1, 2, 3]\n",
    "sum_elements(*nbs) # 进行主动拆包"
   ]
  },
  {
   "cell_type": "markdown",
   "metadata": {},
   "source": [
    "以上可以看出 * 的本质 就是把 元组拆包"
   ]
  },
  {
   "cell_type": "markdown",
   "metadata": {},
   "source": [
    "而 ** 的作用是把 dict拆包"
   ]
  },
  {
   "cell_type": "markdown",
   "metadata": {},
   "source": [
    "\\**kwargs"
   ]
  },
  {
   "cell_type": "code",
   "execution_count": 33,
   "metadata": {
    "collapsed": false
   },
   "outputs": [
    {
     "name": "stdout",
     "output_type": "stream",
     "text": [
      "name: Michael age: 13 others: {'smart': 'extremely', 'handsome': 'very', 'genius': True}\n"
     ]
    }
   ],
   "source": [
    "def information(name, age, **kwargs):\n",
    "    if 'smart' in kwargs:   # check if the user input the key parameter 'smart'\n",
    "        pass\n",
    "    print(\"name:\", name, \"age:\", age, \"others:\", kwargs)\n",
    "information('Michael', 13, handsome='very', smart='extremely', genius=True)"
   ]
  },
  {
   "cell_type": "markdown",
   "metadata": {},
   "source": [
    "限制参数 （没看懂）"
   ]
  },
  {
   "cell_type": "markdown",
   "metadata": {},
   "source": [
    "参数定义的顺序必须是：必选参数(positional arguments)、默认参数、可变参数、命名关键字参数(keyword-only arguments)和关键字参数"
   ]
  },
  {
   "cell_type": "code",
   "execution_count": 46,
   "metadata": {
    "collapsed": true
   },
   "outputs": [],
   "source": [
    "def foo(x, y, z=1, *args, **kwargs):\n",
    "    print(x, y, z, args, kwargs)\n",
    "def fooo(x, y, *, z, **kwargs):\n",
    "    print(x, y, z, kwargs)"
   ]
  },
  {
   "cell_type": "code",
   "execution_count": 51,
   "metadata": {
    "collapsed": false
   },
   "outputs": [
    {
     "name": "stdout",
     "output_type": "stream",
     "text": [
      "1 2 1 () {'a': 2}\n",
      "1 2 3 {}\n"
     ]
    }
   ],
   "source": [
    "foo(1, 2, a=2)\n",
    "fooo(1, 2, z=3)"
   ]
  },
  {
   "cell_type": "markdown",
   "metadata": {},
   "source": [
    "虽然这么多种参数很酷炫，但是尽量不要用太多在一起。Because if you read some code you dont't understand, simply just shoot the coder.       -- Tim Peters"
   ]
  },
  {
   "cell_type": "markdown",
   "metadata": {},
   "source": [
    "Recursion(函数调用自身函数）"
   ]
  },
  {
   "cell_type": "code",
   "execution_count": 76,
   "metadata": {
    "collapsed": false
   },
   "outputs": [
    {
     "name": "stdout",
     "output_type": "stream",
     "text": [
      "10000 loops, best of 3: 51.5 µs per loop\n"
     ]
    }
   ],
   "source": [
    "def fac(n):\n",
    "    if n == 1:\n",
    "        return 1\n",
    "    return n * fac(n - 1)\n",
    "%timeit fac(200)"
   ]
  },
  {
   "cell_type": "code",
   "execution_count": 78,
   "metadata": {
    "collapsed": false
   },
   "outputs": [
    {
     "name": "stdout",
     "output_type": "stream",
     "text": [
      "The slowest run took 1035.38 times longer than the fastest. This could mean that an intermediate result is being cached.\n",
      "10000000 loops, best of 3: 148 ns per loop\n"
     ]
    }
   ],
   "source": [
    "from functools import lru_cache\n",
    "@lru_cache(128) # store the recent 128 variables into cache, should be faster\n",
    "def fac(n):\n",
    "    if n == 1:\n",
    "        return 1\n",
    "    return n * fac(n - 1)\n",
    "%timeit fac(200)"
   ]
  },
  {
   "cell_type": "markdown",
   "metadata": {},
   "source": [
    "Hell NO! WTF, why is it much slower??"
   ]
  },
  {
   "cell_type": "markdown",
   "metadata": {},
   "source": [
    "使用递归函数的优点是逻辑简单清晰，缺点是过深的调用会导致栈溢出。"
   ]
  },
  {
   "cell_type": "markdown",
   "metadata": {},
   "source": [
    "### 3.高级特性"
   ]
  },
  {
   "cell_type": "code",
   "execution_count": null,
   "metadata": {
    "collapsed": true
   },
   "outputs": [],
   "source": []
  }
 ],
 "metadata": {
  "anaconda-cloud": {},
  "kernelspec": {
   "display_name": "Python [Root]",
   "language": "python",
   "name": "Python [Root]"
  },
  "language_info": {
   "codemirror_mode": {
    "name": "ipython",
    "version": 3
   },
   "file_extension": ".py",
   "mimetype": "text/x-python",
   "name": "python",
   "nbconvert_exporter": "python",
   "pygments_lexer": "ipython3",
   "version": "3.5.2"
  }
 },
 "nbformat": 4,
 "nbformat_minor": 0
}
